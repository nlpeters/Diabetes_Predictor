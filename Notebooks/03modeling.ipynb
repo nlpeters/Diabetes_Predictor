{
 "cells": [
  {
   "cell_type": "markdown",
   "metadata": {},
   "source": [
    "Below is the section 16.3 preprocessing and training notebook, which also fulfills the section 18.03 modeling requirements."
   ]
  },
  {
   "cell_type": "markdown",
   "metadata": {},
   "source": [
    "# 16.3 Capstone 2 Preprocessing And Training\n",
    "<a id='16_3_Capstone_2_Preprocessing_And_Training'></a>"
   ]
  },
  {
   "cell_type": "markdown",
   "metadata": {},
   "source": [
    "* [16.3.1 Recap Of Summaries Of Previous Notebooks](#16.3.1_Recap_Of_Summaries_Of_Previous_Notebooks)\n",
    "* [16.3.2 Imports](#16.3.2_Imports)\n",
    "* [16.3.3 Functions_Created](#16.3.3_Functions_Created)\n",
    "* [16.3.4 Load The Study Data After Exploratory Data Analysis EDA](#16.3.4_Load_The_Study_Data_After_Exploratory_Data_Analysis_EDA)\n",
    "* [16.3.5 Split The Data](#16.3.5_Split_The_Data)\n",
    "* [16.3.6 Use Models to Find Best K](#16.3.6_Use_Models_to_Find_Best_K)\n",
    "  * [16.3.6.1 KBest for Gradient Boosting Classifier](#16.3.6.1_KBest_for_Gradient_Boosting_Classifier)\n",
    "  * [16.3.6.2 KBest for Linear SVC](#16.3.6.2_KBest_for_Linear_SVC)\n",
    "  * [16.3.6.3 KBest for Logistic Regression](#16.3.6.3_KBest_for_Logistic_Regression) \n",
    "  * [16.3.6.4 Conclusion](#16.3.6.4_Conclusion)\n",
    "* [16.3.7 Refining The Models](#16.3.7_Refining_The_Models)\n",
    "  * [16.3.7.1 Gradient Boosting Classifier Model](#16.3.7.1_Gradient_Boosting_Classifier_Model)\n",
    "    * [16.3.7.1.1 Assess performance on train and test data](#16.3.7.1.1_Assess_performance_on_train_and_test_data)\n",
    "    * [16.3.7.1.2 Assessing performance using cross-validation](#16.3.7.1.2_Assessing_performance_using_cross-validation)\n",
    "    * [16.3.7.1.3 Hyperparameter search using GridSearchCV](#16.3.7.1.3_Hyperparameter_search_using_GridSearchCV)\n",
    "  * [16.3.7.2 Linear SVC Model](#16.3.7.2_Linear_SVC_Model)\n",
    "    * [16.3.7.2.1 Assess performance on train and test data](#16.3.7.2.1_Assess_performance_on_train_and_test_data)\n",
    "    * [16.3.7.2.2 Assessing performance using cross-validation](#16.3.7.2.2_Assessing_performance_using_cross-validation)\n",
    "    * [16.3.7.2.3 Hyperparameter search using GridSearchCV](#16.3.7.2.3_Hyperparameter_search_using_GridSearchCV)\n",
    "  * [16.3.7.3 Logistic Regression Model](#16.3.7.3_Logistic_Regression_Model)\n",
    "    * [16.3.7.1.1 Assess performance on train and test data](#16.3.7.1.1_Assess_performance_on_train_and_test_data)\n",
    "    * [16.3.7.1.2 Assessing performance using cross-validation](#16.3.7.1.2_Assessing_performance_using_cross-validation)\n",
    "    * [16.3.7.1.3 Hyperparameter search using GridSearchCV](#16.3.7.1.3_Hyperparameter_search_using_GridSearchCV)  \n",
    "* [16.3.8 Final Model Selection](#16.3.8_Final_Model_Selection)\n",
    "  * [16.3.8.1 Gradient Boosting Classifier Performance](#16.3.8.1_Gradient_Boosting_Classifier_Performance)\n",
    "  * [16.3.8.2 Linear SVC Performance](#16.3.8.2_Linear_SVC_Performance)\n",
    "  * [16.3.8.3 Logistic Regression Performance](#16.3.8.3_Logistic_Regression_Performance)  \n",
    "  * [16.3.8.4 Conclusion](#16.3.8.4_Conclusion)\n",
    "* [16.3.9 Data Quantity Assessment](#16.3.9_Data_Quantity_Assessment)\n",
    "* [16.3.10 Save Data](#16.3.10_Save_Data)\n",
    "* [16.3.11 Summary](#16.3.11_Summary)"
   ]
  },
  {
   "cell_type": "markdown",
   "metadata": {},
   "source": [
    "# 16.3.1 Recap Of Summaries Of Previous Notebooks <a id='16.3.1_Recap_Of_Summaries_Of_Previous_Notebooks'></a>"
   ]
  },
  {
   "cell_type": "markdown",
   "metadata": {},
   "source": [
    "Goal: Predict likelihood of early stage diabetes based on various symptoms\n",
    "\n",
    "The dataset includes the gender, age and 14 symptoms of a newly diabetic or would-be diabetic patient and whether they tested positive or negative for diabetes.  (Note - gender and age will be referred to as symptoms - making a total of 16 \"symptoms\" for testing.  There are 520 rows of data (data-wrangling notebook incorrectly said 550 at top, although showed 520 when working through data).  The aim is to build a model to predict whether a subject providing that data would be more likely to test positive or negative for diabetes.\n",
    "(Note from the website source: The dataset was collected using direct questionnaires from the patients of Sylhet Diabetes\n",
    "Hospital in Sylhet, Bangladesh and approved by a doctor).\n",
    "\n",
    "Definitions of some symptoms:\n",
    "polyuria:  production of abnormally large volumes of dilute urine.\n",
    "polydipsia:  abnormally great thirst as a symptom of disease (such as diabetes) or psychological disturbance.\n",
    "polyphagia:  also known as hyperphagia, is the medical term for excessive or extreme hunger. It's different than having an increased appetite after exercise or other physical activity. While your hunger level will return to normal after eating in those cases, polyphagia won't go away if you eat more food.\n",
    "alopecia:  alopecia areata is a condition that causes hair to fall out in small patches, which can be unnoticeable. These patches may connect, however, and then become noticeable. The condition develops when the immune system attacks the hair follicles, resulting in hair loss.\n",
    "partial paresis:  paresis involves the weakening of a muscle or group of muscles. It may also be referred to as partial or mild paralysis. Unlike paralysis, people with paresis can still move their muscles. These movements are just weaker than normal. Paresis occurs when nerves are damaged.\n",
    "\n",
    "The link to the UCI Machine Learning Repository dataset is:\n",
    "https://archive.ics.uci.edu/ml/datasets/Early+stage+diabetes+risk+prediction+dataset.\n",
    "(Note - the period is part of the link).\n",
    "\n",
    "Related citations are:\n",
    "Dua, D. and Graff, C. (2019). UCI Machine Learning Repository [http://archive.ics.uci.edu/ml]. Irvine, CA: University of California, School of Information and Computer Science.\n",
    "Islam, MM Faniqul, et al. 'Likelihood prediction of diabetes at early stage using data mining techniques.' Computer Vision and Machine Intelligence in Medical Image Analysis. Springer, Singapore, 2020. 113-125."
   ]
  },
  {
   "cell_type": "markdown",
   "metadata": {},
   "source": [
    "Data Wrangling revealed:\n",
    "The given data had no missing values and was almost all boolean. Only age was not. Two different kinds of categorical age columns was made from the age column, as well as a binary version based on a range, based on two categories of the four category version that had a relatively high percentage of subjects in those age groups having diabetes_found.\n",
    "\n",
    "The symptoms that seem to be most important separately and together are: 'polyuria', 'polydipsia', 'weakness', and 'partial_paresis'. That will be kept in mind although, since there are only 16 symptoms all together, they will probably all be looked at. Categorical-based algorithms will be explored because of the nature of the data.\n",
    "\n",
    "Results:\n",
    "320 of 520 subjects tested positive for diabetes\n",
    "113 of 320 (35%) had all of the top four symptoms: 'polyuria', 'polydipsia', 'weakness', 'partial_paresis'\n",
    "155 of 320 (48%) had all of the top three symptoms: 'polyuria', 'polydipsia', 'weakness'\n",
    "193 of 320 (60%) had both of the top two symptoms: 'polyuria', 'polydipsia'"
   ]
  },
  {
   "cell_type": "markdown",
   "metadata": {},
   "source": [
    "There are 16 symptoms being considered in this dataset. It should be noted that the dataset comes from one non-US hospital and are not a general population (see data source in \"Recap Of Data Science Problem and Data Wrangling Summaries\" above).\n",
    "\n",
    "Furthermore, there are certain symptoms that are not well represented. For example, obesity and diabetes are shown to be very correlated by many studies (https://www.diabetesselfmanagement.com/about-diabetes/types-of-diabetes/type-2-diabetes-and-obesity-the-link/). However, in this full population sample, with or without diabetes, there are only 88 of 520 subjects that have obesity as a symptom.\n",
    "\n",
    "Thus, it is hard to imagine that this dataset will produce a model that accurately predicts results for a US or worldwide population. However, the aim will be to make a good predictor for a population similar to the one given.\n",
    "\n",
    "The best way to represent age as a boolean was explored in more detail in this notebook because age has a known correlation with diabetes (https://www.webmd.com/diabetes/diabetes-link-age). Again, this is a specific dataset population and, although the details of how this data source was obtained is unknown from the limited information on the website, it could be speculated that people of all ages that doctors suspected might have diabetes based on having at least one symptom were thus tested, as opposed to sampling made to represent the general population.\n",
    "\n",
    "There was also a moderate negative correlation (-0.45) with 'is_male', which implies a moderate correlation with the gender being female. Thus, is_male should be included in this model. Note, however that this correlation also goes against reported greater prevalence of diabetes in males compared to females. (https://www.americashealthrankings.org/explore/annual/measure/Diabetes/state/ALL).\n",
    "\n",
    "Similarly, about the gender correlation: In this dataset, there were 328 males and 147 of them had diabetes. On the other hand, there were 192 females and 173 of them had diabetes! This might mean that the correlation only relates to how men and women were each chosen to be in this dataset. Again, based on this and what was mentioned about other symptoms above, this dataset clearly does not match a general population, again showing that the model created will only be predictive for a population that meets some unknown criteria (potentially as narrow as \"patients of Sylhet Diabetes Hospital in Sylhet, Bangladesh and approved by a doctor\", but hopefully much more general, such as \"third world patients\"). However, it will still be interesting to discover how good a model could be made from this dataset, no matter how narrow its usefulness.\n",
    "\n",
    "Although, as determined during data wrangling, there are some symptoms that have a much higher correlation with a diabetes diagnosis than others, since there are only 16 symptoms altogether and, although there are some moderate correlations, there are no strong correlations between any two of them. Thus, keeping all of them in an initial model would probably be a good starting place. That model could then be compared with other models where some symptoms that are less correlated with diabetes being found are excluded.\n",
    "\n",
    "Just to remind from data wrangling, the top seven most prevalent symptoms that appear in those that had diabetes were (from most prevalent to least of top seven): 'polyuria', 'polydipsia', 'weakness', 'partial_paresis', 'polyphagia', 'sudden_weight_loss', 'age_over_47_point_5'. From the orrelation heatmap of full population above, the top seven of those with the greatest correlation with 'diabetes_found' were: 'polyuria' (0.67), 'polydipsia'(0.65), 'is_male' (-0.45), 'sudden_weight_loss'(0.44), 'partial_paresis'(0.43), 'polyphagia'(0.34), 'irritability'(0.30), 'visual blurring'(0.25)."
   ]
  },
  {
   "cell_type": "markdown",
   "metadata": {},
   "source": [
    "# 16.3.2 Imports<a id='16.3.2_Imports'></a>"
   ]
  },
  {
   "cell_type": "code",
   "execution_count": 1,
   "metadata": {},
   "outputs": [],
   "source": [
    "#standard\n",
    "import pandas as pd\n",
    "import numpy as np\n",
    "import datetime\n",
    "import os\n",
    "#file\n",
    "import pickle\n",
    "from library.sb_utils import save_file\n",
    "#plotting\n",
    "import matplotlib.pyplot as plt\n",
    "import seaborn as sns\n",
    "#sklearn model support/metrics\n",
    "from sklearn import __version__ as sklearn_version\n",
    "from sklearn.model_selection import train_test_split, cross_validate, GridSearchCV, learning_curve\n",
    "from sklearn.metrics import r2_score, mean_squared_error, mean_absolute_error, confusion_matrix\n",
    "from sklearn.pipeline import make_pipeline\n",
    "from sklearn.feature_selection import SelectKBest, f_regression, f_classif\n",
    "#sklearn models\n",
    "from sklearn.ensemble import GradientBoostingClassifier\n",
    "from sklearn.svm import LinearSVC\n",
    "from sklearn.naive_bayes import GaussianNB\n",
    "from sklearn.linear_model import LogisticRegression"
   ]
  },
  {
   "cell_type": "markdown",
   "metadata": {},
   "source": [
    "# 16.3.3 Functions Created<a id='16.3.3_Functions_Created'></a>"
   ]
  },
  {
   "cell_type": "code",
   "execution_count": 2,
   "metadata": {},
   "outputs": [],
   "source": [
    "# No functions written for this notebook"
   ]
  },
  {
   "cell_type": "markdown",
   "metadata": {},
   "source": [
    "# 16.3.4 Load The Study Data After Exploratory Data Analysis (EDA)<a id='16.3.4_Load_The_Study_Data_After_Exploratory_Data_Analysis_EDA'></a>"
   ]
  },
  {
   "cell_type": "code",
   "execution_count": 3,
   "metadata": {},
   "outputs": [],
   "source": [
    "# The original CSV data file downloaded from UCI, diabetes_data_upload.csv is in the raw_data directory\n",
    "# Re-load useful files from data wrangling put in data directory\n",
    "datapath = '../data'\n",
    "# Boolean version of 'Yes'/'No' valued columns using 1/0 instead of True/False to allow for summing (and minor other data cleanup)\n",
    "df_boolean = pd.read_csv('../data/df_boolean.csv')\n",
    "# Version of df_boolean with only those with diabetes_found = 0\n",
    "df_boolean_diabetes_found = pd.read_csv('../data/df_boolean_diabetes_found.csv')\n",
    "# Version of df_boolean with only those with diabetes_found = 1 and additional age fields added, including boolean\n",
    "df_boolean_diabetes_not_found = pd.read_csv('../data/df_boolean_diabetes_not_found.csv')\n",
    "# Total for each symptom for those with diabetes_found\n",
    "df_diabetes_found_totals = pd.read_csv('../data/df_diabetes_found_totals.csv')\n",
    "# Total for each symptom for those with diabetes_found, sorted descending based on total\n",
    "# With additional fields symptom_importance and symptom_str\n",
    "df_diabetes_found_totals_sorted = pd.read_csv('../data/df_diabetes_found_totals_sorted.csv')\n",
    "# Binary version of symptoms sorted by importance for each subject with diabetes_found\n",
    "df_substr_binary_list_diabetes_found = pd.read_csv('../data/df_substr_binary_list_diabetes_found.csv')\n",
    "# Binary version of first 7 symptoms sorted by importance for each subject with diabetes_found\n",
    "df_substr_binary_list_diabetes_found_7 = pd.read_csv('../data/df_substr_binary_list_diabetes_found_7.csv')\n",
    "# Binary version of first 3 symptoms sorted by importance for each subject with diabetes_found\n",
    "df_substr_binary_list_diabetes_found_3 = pd.read_csv('../data/df_substr_binary_list_diabetes_found_3.csv')\n",
    "# Binary version of first 2 symptoms sorted by importance for each subject with diabetes_found\n",
    "df_substr_binary_list_diabetes_found_2 = pd.read_csv('../data/df_substr_binary_list_diabetes_found_2.csv')\n",
    "# Version of df_boolean_diabetes_found with all non-boolean fields removed\n",
    "df_boolean_only_diabetes_found = pd.read_csv('../data/df_boolean_only_diabetes_found.csv')"
   ]
  },
  {
   "cell_type": "code",
   "execution_count": 4,
   "metadata": {},
   "outputs": [],
   "source": [
    "# Dataframe age experimentation columns, just in case, although probably won't be used\n",
    "df_category = pd.read_csv('../data/df_category.csv')\n",
    "# Dataframe with all 16 symptoms as boolean, keeping only age_over_47_point_5 as an age field\n",
    "df_from_eda = pd.read_csv('../data/df_from_eda.csv')"
   ]
  },
  {
   "cell_type": "code",
   "execution_count": 5,
   "metadata": {},
   "outputs": [
    {
     "name": "stdout",
     "output_type": "stream",
     "text": [
      "<class 'pandas.core.frame.DataFrame'>\n",
      "RangeIndex: 520 entries, 0 to 519\n",
      "Data columns (total 17 columns):\n",
      " #   Column               Non-Null Count  Dtype\n",
      "---  ------               --------------  -----\n",
      " 0   is_male              520 non-null    int64\n",
      " 1   polyuria             520 non-null    int64\n",
      " 2   polydipsia           520 non-null    int64\n",
      " 3   sudden_weight_loss   520 non-null    int64\n",
      " 4   weakness             520 non-null    int64\n",
      " 5   polyphagia           520 non-null    int64\n",
      " 6   genital_thrush       520 non-null    int64\n",
      " 7   visual_blurring      520 non-null    int64\n",
      " 8   itching              520 non-null    int64\n",
      " 9   irritability         520 non-null    int64\n",
      " 10  delayed_healing      520 non-null    int64\n",
      " 11  partial_paresis      520 non-null    int64\n",
      " 12  muscle_stiffness     520 non-null    int64\n",
      " 13  alopecia             520 non-null    int64\n",
      " 14  obesity              520 non-null    int64\n",
      " 15  diabetes_found       520 non-null    int64\n",
      " 16  age_over_47_point_5  520 non-null    int64\n",
      "dtypes: int64(17)\n",
      "memory usage: 69.2 KB\n"
     ]
    }
   ],
   "source": [
    "# Get basic info about data\n",
    "df_from_eda.info()"
   ]
  },
  {
   "cell_type": "code",
   "execution_count": 6,
   "metadata": {
    "scrolled": true
   },
   "outputs": [
    {
     "data": {
      "text/html": [
       "<div>\n",
       "<style scoped>\n",
       "    .dataframe tbody tr th:only-of-type {\n",
       "        vertical-align: middle;\n",
       "    }\n",
       "\n",
       "    .dataframe tbody tr th {\n",
       "        vertical-align: top;\n",
       "    }\n",
       "\n",
       "    .dataframe thead th {\n",
       "        text-align: right;\n",
       "    }\n",
       "</style>\n",
       "<table border=\"1\" class=\"dataframe\">\n",
       "  <thead>\n",
       "    <tr style=\"text-align: right;\">\n",
       "      <th></th>\n",
       "      <th>is_male</th>\n",
       "      <th>polyuria</th>\n",
       "      <th>polydipsia</th>\n",
       "      <th>sudden_weight_loss</th>\n",
       "      <th>weakness</th>\n",
       "      <th>polyphagia</th>\n",
       "      <th>genital_thrush</th>\n",
       "      <th>visual_blurring</th>\n",
       "      <th>itching</th>\n",
       "      <th>irritability</th>\n",
       "      <th>delayed_healing</th>\n",
       "      <th>partial_paresis</th>\n",
       "      <th>muscle_stiffness</th>\n",
       "      <th>alopecia</th>\n",
       "      <th>obesity</th>\n",
       "      <th>diabetes_found</th>\n",
       "      <th>age_over_47_point_5</th>\n",
       "    </tr>\n",
       "  </thead>\n",
       "  <tbody>\n",
       "    <tr>\n",
       "      <th>0</th>\n",
       "      <td>1</td>\n",
       "      <td>0</td>\n",
       "      <td>1</td>\n",
       "      <td>0</td>\n",
       "      <td>1</td>\n",
       "      <td>0</td>\n",
       "      <td>0</td>\n",
       "      <td>0</td>\n",
       "      <td>1</td>\n",
       "      <td>0</td>\n",
       "      <td>1</td>\n",
       "      <td>0</td>\n",
       "      <td>1</td>\n",
       "      <td>1</td>\n",
       "      <td>1</td>\n",
       "      <td>1</td>\n",
       "      <td>0</td>\n",
       "    </tr>\n",
       "    <tr>\n",
       "      <th>1</th>\n",
       "      <td>1</td>\n",
       "      <td>0</td>\n",
       "      <td>0</td>\n",
       "      <td>0</td>\n",
       "      <td>1</td>\n",
       "      <td>0</td>\n",
       "      <td>0</td>\n",
       "      <td>1</td>\n",
       "      <td>0</td>\n",
       "      <td>0</td>\n",
       "      <td>0</td>\n",
       "      <td>1</td>\n",
       "      <td>0</td>\n",
       "      <td>1</td>\n",
       "      <td>0</td>\n",
       "      <td>1</td>\n",
       "      <td>1</td>\n",
       "    </tr>\n",
       "    <tr>\n",
       "      <th>2</th>\n",
       "      <td>1</td>\n",
       "      <td>1</td>\n",
       "      <td>0</td>\n",
       "      <td>0</td>\n",
       "      <td>1</td>\n",
       "      <td>1</td>\n",
       "      <td>0</td>\n",
       "      <td>0</td>\n",
       "      <td>1</td>\n",
       "      <td>0</td>\n",
       "      <td>1</td>\n",
       "      <td>0</td>\n",
       "      <td>1</td>\n",
       "      <td>1</td>\n",
       "      <td>0</td>\n",
       "      <td>1</td>\n",
       "      <td>0</td>\n",
       "    </tr>\n",
       "    <tr>\n",
       "      <th>3</th>\n",
       "      <td>1</td>\n",
       "      <td>0</td>\n",
       "      <td>0</td>\n",
       "      <td>1</td>\n",
       "      <td>1</td>\n",
       "      <td>1</td>\n",
       "      <td>1</td>\n",
       "      <td>0</td>\n",
       "      <td>1</td>\n",
       "      <td>0</td>\n",
       "      <td>1</td>\n",
       "      <td>0</td>\n",
       "      <td>0</td>\n",
       "      <td>0</td>\n",
       "      <td>0</td>\n",
       "      <td>1</td>\n",
       "      <td>0</td>\n",
       "    </tr>\n",
       "    <tr>\n",
       "      <th>4</th>\n",
       "      <td>1</td>\n",
       "      <td>1</td>\n",
       "      <td>1</td>\n",
       "      <td>1</td>\n",
       "      <td>1</td>\n",
       "      <td>1</td>\n",
       "      <td>0</td>\n",
       "      <td>1</td>\n",
       "      <td>1</td>\n",
       "      <td>1</td>\n",
       "      <td>1</td>\n",
       "      <td>1</td>\n",
       "      <td>1</td>\n",
       "      <td>1</td>\n",
       "      <td>1</td>\n",
       "      <td>1</td>\n",
       "      <td>1</td>\n",
       "    </tr>\n",
       "  </tbody>\n",
       "</table>\n",
       "</div>"
      ],
      "text/plain": [
       "   is_male  polyuria  polydipsia  sudden_weight_loss  weakness  polyphagia  \\\n",
       "0        1         0           1                   0         1           0   \n",
       "1        1         0           0                   0         1           0   \n",
       "2        1         1           0                   0         1           1   \n",
       "3        1         0           0                   1         1           1   \n",
       "4        1         1           1                   1         1           1   \n",
       "\n",
       "   genital_thrush  visual_blurring  itching  irritability  delayed_healing  \\\n",
       "0               0                0        1             0                1   \n",
       "1               0                1        0             0                0   \n",
       "2               0                0        1             0                1   \n",
       "3               1                0        1             0                1   \n",
       "4               0                1        1             1                1   \n",
       "\n",
       "   partial_paresis  muscle_stiffness  alopecia  obesity  diabetes_found  \\\n",
       "0                0                 1         1        1               1   \n",
       "1                1                 0         1        0               1   \n",
       "2                0                 1         1        0               1   \n",
       "3                0                 0         0        0               1   \n",
       "4                1                 1         1        1               1   \n",
       "\n",
       "   age_over_47_point_5  \n",
       "0                    0  \n",
       "1                    1  \n",
       "2                    0  \n",
       "3                    0  \n",
       "4                    1  "
      ]
     },
     "execution_count": 6,
     "metadata": {},
     "output_type": "execute_result"
    }
   ],
   "source": [
    "# Examine some data\n",
    "df_from_eda.head()"
   ]
  },
  {
   "cell_type": "code",
   "execution_count": 7,
   "metadata": {
    "scrolled": false
   },
   "outputs": [
    {
     "data": {
      "text/html": [
       "<div>\n",
       "<style scoped>\n",
       "    .dataframe tbody tr th:only-of-type {\n",
       "        vertical-align: middle;\n",
       "    }\n",
       "\n",
       "    .dataframe tbody tr th {\n",
       "        vertical-align: top;\n",
       "    }\n",
       "\n",
       "    .dataframe thead th {\n",
       "        text-align: right;\n",
       "    }\n",
       "</style>\n",
       "<table border=\"1\" class=\"dataframe\">\n",
       "  <thead>\n",
       "    <tr style=\"text-align: right;\">\n",
       "      <th></th>\n",
       "      <th>is_male</th>\n",
       "      <th>polyuria</th>\n",
       "      <th>polydipsia</th>\n",
       "      <th>sudden_weight_loss</th>\n",
       "      <th>weakness</th>\n",
       "      <th>polyphagia</th>\n",
       "      <th>genital_thrush</th>\n",
       "      <th>visual_blurring</th>\n",
       "      <th>itching</th>\n",
       "      <th>irritability</th>\n",
       "      <th>delayed_healing</th>\n",
       "      <th>partial_paresis</th>\n",
       "      <th>muscle_stiffness</th>\n",
       "      <th>alopecia</th>\n",
       "      <th>obesity</th>\n",
       "      <th>diabetes_found</th>\n",
       "      <th>age_over_47_point_5</th>\n",
       "    </tr>\n",
       "  </thead>\n",
       "  <tbody>\n",
       "    <tr>\n",
       "      <th>count</th>\n",
       "      <td>520.000000</td>\n",
       "      <td>520.000000</td>\n",
       "      <td>520.000000</td>\n",
       "      <td>520.000000</td>\n",
       "      <td>520.000000</td>\n",
       "      <td>520.000000</td>\n",
       "      <td>520.000000</td>\n",
       "      <td>520.000000</td>\n",
       "      <td>520.000000</td>\n",
       "      <td>520.000000</td>\n",
       "      <td>520.000000</td>\n",
       "      <td>520.000000</td>\n",
       "      <td>520.000000</td>\n",
       "      <td>520.000000</td>\n",
       "      <td>520.000000</td>\n",
       "      <td>520.000000</td>\n",
       "      <td>520.000000</td>\n",
       "    </tr>\n",
       "    <tr>\n",
       "      <th>mean</th>\n",
       "      <td>0.630769</td>\n",
       "      <td>0.496154</td>\n",
       "      <td>0.448077</td>\n",
       "      <td>0.417308</td>\n",
       "      <td>0.586538</td>\n",
       "      <td>0.455769</td>\n",
       "      <td>0.223077</td>\n",
       "      <td>0.448077</td>\n",
       "      <td>0.486538</td>\n",
       "      <td>0.242308</td>\n",
       "      <td>0.459615</td>\n",
       "      <td>0.430769</td>\n",
       "      <td>0.375000</td>\n",
       "      <td>0.344231</td>\n",
       "      <td>0.169231</td>\n",
       "      <td>0.615385</td>\n",
       "      <td>0.500000</td>\n",
       "    </tr>\n",
       "    <tr>\n",
       "      <th>std</th>\n",
       "      <td>0.483061</td>\n",
       "      <td>0.500467</td>\n",
       "      <td>0.497776</td>\n",
       "      <td>0.493589</td>\n",
       "      <td>0.492928</td>\n",
       "      <td>0.498519</td>\n",
       "      <td>0.416710</td>\n",
       "      <td>0.497776</td>\n",
       "      <td>0.500300</td>\n",
       "      <td>0.428892</td>\n",
       "      <td>0.498846</td>\n",
       "      <td>0.495661</td>\n",
       "      <td>0.484589</td>\n",
       "      <td>0.475574</td>\n",
       "      <td>0.375317</td>\n",
       "      <td>0.486973</td>\n",
       "      <td>0.500481</td>\n",
       "    </tr>\n",
       "    <tr>\n",
       "      <th>min</th>\n",
       "      <td>0.000000</td>\n",
       "      <td>0.000000</td>\n",
       "      <td>0.000000</td>\n",
       "      <td>0.000000</td>\n",
       "      <td>0.000000</td>\n",
       "      <td>0.000000</td>\n",
       "      <td>0.000000</td>\n",
       "      <td>0.000000</td>\n",
       "      <td>0.000000</td>\n",
       "      <td>0.000000</td>\n",
       "      <td>0.000000</td>\n",
       "      <td>0.000000</td>\n",
       "      <td>0.000000</td>\n",
       "      <td>0.000000</td>\n",
       "      <td>0.000000</td>\n",
       "      <td>0.000000</td>\n",
       "      <td>0.000000</td>\n",
       "    </tr>\n",
       "    <tr>\n",
       "      <th>25%</th>\n",
       "      <td>0.000000</td>\n",
       "      <td>0.000000</td>\n",
       "      <td>0.000000</td>\n",
       "      <td>0.000000</td>\n",
       "      <td>0.000000</td>\n",
       "      <td>0.000000</td>\n",
       "      <td>0.000000</td>\n",
       "      <td>0.000000</td>\n",
       "      <td>0.000000</td>\n",
       "      <td>0.000000</td>\n",
       "      <td>0.000000</td>\n",
       "      <td>0.000000</td>\n",
       "      <td>0.000000</td>\n",
       "      <td>0.000000</td>\n",
       "      <td>0.000000</td>\n",
       "      <td>0.000000</td>\n",
       "      <td>0.000000</td>\n",
       "    </tr>\n",
       "    <tr>\n",
       "      <th>50%</th>\n",
       "      <td>1.000000</td>\n",
       "      <td>0.000000</td>\n",
       "      <td>0.000000</td>\n",
       "      <td>0.000000</td>\n",
       "      <td>1.000000</td>\n",
       "      <td>0.000000</td>\n",
       "      <td>0.000000</td>\n",
       "      <td>0.000000</td>\n",
       "      <td>0.000000</td>\n",
       "      <td>0.000000</td>\n",
       "      <td>0.000000</td>\n",
       "      <td>0.000000</td>\n",
       "      <td>0.000000</td>\n",
       "      <td>0.000000</td>\n",
       "      <td>0.000000</td>\n",
       "      <td>1.000000</td>\n",
       "      <td>0.500000</td>\n",
       "    </tr>\n",
       "    <tr>\n",
       "      <th>75%</th>\n",
       "      <td>1.000000</td>\n",
       "      <td>1.000000</td>\n",
       "      <td>1.000000</td>\n",
       "      <td>1.000000</td>\n",
       "      <td>1.000000</td>\n",
       "      <td>1.000000</td>\n",
       "      <td>0.000000</td>\n",
       "      <td>1.000000</td>\n",
       "      <td>1.000000</td>\n",
       "      <td>0.000000</td>\n",
       "      <td>1.000000</td>\n",
       "      <td>1.000000</td>\n",
       "      <td>1.000000</td>\n",
       "      <td>1.000000</td>\n",
       "      <td>0.000000</td>\n",
       "      <td>1.000000</td>\n",
       "      <td>1.000000</td>\n",
       "    </tr>\n",
       "    <tr>\n",
       "      <th>max</th>\n",
       "      <td>1.000000</td>\n",
       "      <td>1.000000</td>\n",
       "      <td>1.000000</td>\n",
       "      <td>1.000000</td>\n",
       "      <td>1.000000</td>\n",
       "      <td>1.000000</td>\n",
       "      <td>1.000000</td>\n",
       "      <td>1.000000</td>\n",
       "      <td>1.000000</td>\n",
       "      <td>1.000000</td>\n",
       "      <td>1.000000</td>\n",
       "      <td>1.000000</td>\n",
       "      <td>1.000000</td>\n",
       "      <td>1.000000</td>\n",
       "      <td>1.000000</td>\n",
       "      <td>1.000000</td>\n",
       "      <td>1.000000</td>\n",
       "    </tr>\n",
       "  </tbody>\n",
       "</table>\n",
       "</div>"
      ],
      "text/plain": [
       "          is_male    polyuria  polydipsia  sudden_weight_loss    weakness  \\\n",
       "count  520.000000  520.000000  520.000000          520.000000  520.000000   \n",
       "mean     0.630769    0.496154    0.448077            0.417308    0.586538   \n",
       "std      0.483061    0.500467    0.497776            0.493589    0.492928   \n",
       "min      0.000000    0.000000    0.000000            0.000000    0.000000   \n",
       "25%      0.000000    0.000000    0.000000            0.000000    0.000000   \n",
       "50%      1.000000    0.000000    0.000000            0.000000    1.000000   \n",
       "75%      1.000000    1.000000    1.000000            1.000000    1.000000   \n",
       "max      1.000000    1.000000    1.000000            1.000000    1.000000   \n",
       "\n",
       "       polyphagia  genital_thrush  visual_blurring     itching  irritability  \\\n",
       "count  520.000000      520.000000       520.000000  520.000000    520.000000   \n",
       "mean     0.455769        0.223077         0.448077    0.486538      0.242308   \n",
       "std      0.498519        0.416710         0.497776    0.500300      0.428892   \n",
       "min      0.000000        0.000000         0.000000    0.000000      0.000000   \n",
       "25%      0.000000        0.000000         0.000000    0.000000      0.000000   \n",
       "50%      0.000000        0.000000         0.000000    0.000000      0.000000   \n",
       "75%      1.000000        0.000000         1.000000    1.000000      0.000000   \n",
       "max      1.000000        1.000000         1.000000    1.000000      1.000000   \n",
       "\n",
       "       delayed_healing  partial_paresis  muscle_stiffness    alopecia  \\\n",
       "count       520.000000       520.000000        520.000000  520.000000   \n",
       "mean          0.459615         0.430769          0.375000    0.344231   \n",
       "std           0.498846         0.495661          0.484589    0.475574   \n",
       "min           0.000000         0.000000          0.000000    0.000000   \n",
       "25%           0.000000         0.000000          0.000000    0.000000   \n",
       "50%           0.000000         0.000000          0.000000    0.000000   \n",
       "75%           1.000000         1.000000          1.000000    1.000000   \n",
       "max           1.000000         1.000000          1.000000    1.000000   \n",
       "\n",
       "          obesity  diabetes_found  age_over_47_point_5  \n",
       "count  520.000000      520.000000           520.000000  \n",
       "mean     0.169231        0.615385             0.500000  \n",
       "std      0.375317        0.486973             0.500481  \n",
       "min      0.000000        0.000000             0.000000  \n",
       "25%      0.000000        0.000000             0.000000  \n",
       "50%      0.000000        1.000000             0.500000  \n",
       "75%      0.000000        1.000000             1.000000  \n",
       "max      1.000000        1.000000             1.000000  "
      ]
     },
     "execution_count": 7,
     "metadata": {},
     "output_type": "execute_result"
    }
   ],
   "source": [
    "df_from_eda.describe()"
   ]
  },
  {
   "cell_type": "markdown",
   "metadata": {},
   "source": [
    "# 16.3.5 Split The Data<a id='16.3.5_Split_The_Data'></a>"
   ]
  },
  {
   "cell_type": "markdown",
   "metadata": {},
   "source": [
    "NOTE:  The rubric is to see if every step identified in the DSM has been addressed or completed, including:\n",
    "\n",
    "Creating dummy features\n",
    "\n",
    "Scale standardization\n",
    "\n",
    "Split data into training and testing subsets\n",
    "\n",
    "Since the data for this project is now in all boolean form, creating dummy features and scale standardization are not relevant.\n",
    "Therefore, the next step is splitting the data into training and testing subsets.\n"
   ]
  },
  {
   "cell_type": "code",
   "execution_count": 8,
   "metadata": {},
   "outputs": [],
   "source": [
    "X_train, X_test, y_train, y_test = train_test_split(df_from_eda.drop(columns='diabetes_found'), \n",
    "                                                    df_from_eda.diabetes_found, test_size=0.3, \n",
    "                                                    random_state=47)"
   ]
  },
  {
   "cell_type": "code",
   "execution_count": 9,
   "metadata": {},
   "outputs": [
    {
     "data": {
      "text/plain": [
       "((364, 16), (156, 16))"
      ]
     },
     "execution_count": 9,
     "metadata": {},
     "output_type": "execute_result"
    }
   ],
   "source": [
    "X_train.shape, X_test.shape"
   ]
  },
  {
   "cell_type": "code",
   "execution_count": 10,
   "metadata": {},
   "outputs": [
    {
     "data": {
      "text/plain": [
       "((364,), (156,))"
      ]
     },
     "execution_count": 10,
     "metadata": {},
     "output_type": "execute_result"
    }
   ],
   "source": [
    "y_train.shape, y_test.shape"
   ]
  },
  {
   "cell_type": "markdown",
   "metadata": {},
   "source": [
    "# 16.3.6 Use Models to Find Best K<a id='16.3.6_Use_Models_to_Find_Best_K'></a>"
   ]
  },
  {
   "cell_type": "code",
   "execution_count": 11,
   "metadata": {},
   "outputs": [],
   "source": [
    "# Set up kbest filters to test\n",
    "kbest_filter5 = SelectKBest(f_classif, k=5)\n",
    "kbest_filter10 = SelectKBest(f_classif, k=10)\n",
    "kbest_filter15 = SelectKBest(f_classif, k=15)\n",
    "kbest_filter16 = SelectKBest(f_classif, k=16)"
   ]
  },
  {
   "cell_type": "markdown",
   "metadata": {},
   "source": [
    "## 16.3.6.1 KBest for Gradient Boosting Classifier<a id='16.3.6.1_KBest_for_Gradient_Boosting_Classifier'></a>"
   ]
  },
  {
   "cell_type": "code",
   "execution_count": 12,
   "metadata": {},
   "outputs": [
    {
     "data": {
      "text/plain": [
       "0.9487179487179487"
      ]
     },
     "execution_count": 12,
     "metadata": {},
     "output_type": "execute_result"
    }
   ],
   "source": [
    "#KBest for Gradient Boosting Classifier with initial hyperparameters is all 16 features\n",
    "#Results of testing with 5, 10, 15, 16 features shown below, but final choice is 16\n",
    "gbc = GradientBoostingClassifier(n_estimators=100, learning_rate=1.0,\n",
    "    max_depth=1, random_state=0)\n",
    "kbest_gbc_pipe = make_pipeline(kbest_filter16, gbc)\n",
    "kbest_gbc_pipe.fit(X_train, y_train)\n",
    "kbest_gbc_pipe.score(X_test, y_test)\n",
    "#0.8910256410256411 kbest5\n",
    "#0.8910256410256411 kbest10\n",
    "#0.9038461538461539 kbest15\n",
    "#0.9487179487179487 kbest16"
   ]
  },
  {
   "cell_type": "markdown",
   "metadata": {},
   "source": [
    "## 16.3.6.2 KBest for Linear SVC<a id='16.3.6.2_KBest_for_Linear_SVC'></a>"
   ]
  },
  {
   "cell_type": "code",
   "execution_count": 13,
   "metadata": {},
   "outputs": [
    {
     "data": {
      "text/plain": [
       "0.9423076923076923"
      ]
     },
     "execution_count": 13,
     "metadata": {},
     "output_type": "execute_result"
    }
   ],
   "source": [
    "#KBest for Linear SVC with initial hyperparameters is all 16 features\n",
    "#Results of testing with 5, 10, 15, 16 features shown below, but final choice is 16\n",
    "lsvc = LinearSVC(random_state=0, tol=1e-05)\n",
    "kbest_lsvc_pipe = make_pipeline(kbest_filter16, lsvc)\n",
    "kbest_lsvc_pipe.fit(X_train, y_train)\n",
    "kbest_lsvc_pipe.score(X_test, y_test)\n",
    "#0.8910256410256411 kbest5\n",
    "#0.8974358974358975 kbest10\n",
    "#0.9230769230769231 kbest15\n",
    "#0.9423076923076923 kbest16"
   ]
  },
  {
   "cell_type": "markdown",
   "metadata": {},
   "source": [
    "## 16.3.6.3 KBest for Logistic Regression<a id='16.3.6.3_KBest_for_Logistic_Regression'></a>"
   ]
  },
  {
   "cell_type": "code",
   "execution_count": 14,
   "metadata": {},
   "outputs": [
    {
     "data": {
      "text/plain": [
       "0.9423076923076923"
      ]
     },
     "execution_count": 14,
     "metadata": {},
     "output_type": "execute_result"
    }
   ],
   "source": [
    "#KBest for Logistic Regression with initial hyperparameters is all 16 features\n",
    "#Results of testing with 5, 10, 15, 16 features shown below, but final choice is 16\n",
    "lr = LogisticRegression(random_state=0)\n",
    "kbest_lr_pipe = make_pipeline(kbest_filter16, lr)\n",
    "kbest_lr_pipe.fit(X_train, y_train)\n",
    "kbest_lr_pipe.score(X_test, y_test)\n",
    "#0.8910256410256411 kbest5\n",
    "#0.9166666666666666 kbest10\n",
    "#0.9294871794871795 kbest15\n",
    "#0.9423076923076923 kbest16"
   ]
  },
  {
   "cell_type": "markdown",
   "metadata": {},
   "source": [
    "## 16.3.6.4 Conclusion<a id='16.3.6.4_Conclusion'></a>"
   ]
  },
  {
   "cell_type": "markdown",
   "metadata": {},
   "source": [
    "Since a KBest of 16 had the best score for all three models, all 16 features will be used for now.  Later experimenting might be used to change this when used in combination with other hyperparameters."
   ]
  },
  {
   "cell_type": "markdown",
   "metadata": {},
   "source": [
    "# 16.3.7 Refining The Models<a id='16.3.7_Refining_The_Models'></a>"
   ]
  },
  {
   "cell_type": "markdown",
   "metadata": {},
   "source": [
    "## 16.3.7.1 Gradient Boosting Classifier Model<a id='16.3.7.1_Gradient_Boosting_Classifier_Model'></a>"
   ]
  },
  {
   "cell_type": "markdown",
   "metadata": {},
   "source": [
    "### 16.3.7.1.1 Assess performance on train and test data<a id='16.3.7.1.1_Assess_performance_on_train_and_test_data'></a>"
   ]
  },
  {
   "cell_type": "code",
   "execution_count": 15,
   "metadata": {},
   "outputs": [],
   "source": [
    "y_tr_pred_gbc = kbest_gbc_pipe.predict(X_train)\n",
    "y_te_pred_gbc = kbest_gbc_pipe.predict(X_test)\n",
    "\n",
    "r2_score_train_gbc, r2_score_test_gbc = r2_score(y_train, y_tr_pred_gbc), r2_score(y_test, y_te_pred_gbc)\n",
    "\n",
    "mae_train_gbc, mae_test_gbc = mean_absolute_error(y_train, y_tr_pred_gbc), mean_absolute_error(y_test, y_te_pred_gbc)\n",
    "\n",
    "confusion_matrix_train_gbc = confusion_matrix(y_train, y_tr_pred_gbc)\n",
    "confusion_matrix_test_gbc = confusion_matrix(y_test, y_te_pred_gbc)"
   ]
  },
  {
   "cell_type": "code",
   "execution_count": 16,
   "metadata": {},
   "outputs": [
    {
     "data": {
      "text/plain": [
       "(0.7113310493592184, 0.780436312456017)"
      ]
     },
     "execution_count": 16,
     "metadata": {},
     "output_type": "execute_result"
    }
   ],
   "source": [
    "r2_score_train_gbc, r2_score_test_gbc\n",
    "#(0.7113310493592184, 0.780436312456017)"
   ]
  },
  {
   "cell_type": "code",
   "execution_count": 17,
   "metadata": {},
   "outputs": [
    {
     "data": {
      "text/plain": [
       "(0.06868131868131869, 0.05128205128205128)"
      ]
     },
     "execution_count": 17,
     "metadata": {},
     "output_type": "execute_result"
    }
   ],
   "source": [
    "mae_train_gbc, mae_test_gbc\n",
    "#(0.06868131868131869, 0.05128205128205128)"
   ]
  },
  {
   "cell_type": "code",
   "execution_count": 18,
   "metadata": {},
   "outputs": [
    {
     "data": {
      "text/plain": [
       "array([[129,  13],\n",
       "       [ 12, 210]], dtype=int64)"
      ]
     },
     "execution_count": 18,
     "metadata": {},
     "output_type": "execute_result"
    }
   ],
   "source": [
    "confusion_matrix_train_gbc\n",
    "#-- tn fp\n",
    "#-- fn tp\n",
    "#array([[129,  13],\n",
    "#       [ 12, 210]], dtype=int64)"
   ]
  },
  {
   "cell_type": "code",
   "execution_count": 19,
   "metadata": {},
   "outputs": [
    {
     "name": "stdout",
     "output_type": "stream",
     "text": [
      "53 5 3 95\n"
     ]
    }
   ],
   "source": [
    "confusion_matrix_test_gbc\n",
    "#-- tn fp\n",
    "#-- fn tp\n",
    "#array([[53,  5],\n",
    "#       [ 3, 95]], dtype=int64)\n",
    "#used ravel method here one to test it out, but do not use it again in this notebook\n",
    "tn, fp, fn, tp = confusion_matrix_test_gbc.ravel()\n",
    "print(tn, fp, fn, tp)\n",
    "#53 5 3 95"
   ]
  },
  {
   "cell_type": "markdown",
   "metadata": {},
   "source": [
    "### 16.3.7.1.2 Assessing performance using cross-validation<a id='16.3.7.1.2_Assessing_performance_using_cross-validation'></a>"
   ]
  },
  {
   "cell_type": "code",
   "execution_count": 20,
   "metadata": {},
   "outputs": [],
   "source": [
    "cv_results_gbc = cross_validate(kbest_gbc_pipe, X_train, y_train, cv=10)"
   ]
  },
  {
   "cell_type": "code",
   "execution_count": 21,
   "metadata": {},
   "outputs": [
    {
     "data": {
      "text/plain": [
       "\"\\n{'fit_time': array([0.0348115 , 0.02599812, 0.03302121, 0.02799845, 0.02700067,\\n        0.03792405, 0.02901888, 0.02606106, 0.02508378, 0.04461718]),\\n 'score_time': array([0.00200009, 0.00100183, 0.0020628 , 0.00099826, 0.00200152,\\n        0.00199986, 0.00199771, 0.00099707, 0.00099468, 0.00195551]),\\n 'test_score': array([0.86486486, 0.81081081, 0.83783784, 0.97297297, 0.97222222,\\n        0.88888889, 0.91666667, 1.        , 0.94444444, 0.97222222])}\\n\""
      ]
     },
     "execution_count": 21,
     "metadata": {},
     "output_type": "execute_result"
    }
   ],
   "source": [
    "cv_results_gbc\n",
    "'''\n",
    "{'fit_time': array([0.0348115 , 0.02599812, 0.03302121, 0.02799845, 0.02700067,\n",
    "        0.03792405, 0.02901888, 0.02606106, 0.02508378, 0.04461718]),\n",
    " 'score_time': array([0.00200009, 0.00100183, 0.0020628 , 0.00099826, 0.00200152,\n",
    "        0.00199986, 0.00199771, 0.00099707, 0.00099468, 0.00195551]),\n",
    " 'test_score': array([0.86486486, 0.81081081, 0.83783784, 0.97297297, 0.97222222,\n",
    "        0.88888889, 0.91666667, 1.        , 0.94444444, 0.97222222])}\n",
    "'''"
   ]
  },
  {
   "cell_type": "code",
   "execution_count": 22,
   "metadata": {},
   "outputs": [
    {
     "data": {
      "text/plain": [
       "array([0.86486486, 0.81081081, 0.83783784, 0.97297297, 0.97222222,\n",
       "       0.88888889, 0.91666667, 1.        , 0.94444444, 0.97222222])"
      ]
     },
     "execution_count": 22,
     "metadata": {},
     "output_type": "execute_result"
    }
   ],
   "source": [
    "cv_scores_gbc = cv_results_gbc['test_score']\n",
    "cv_scores_gbc\n",
    "#array([0.86486486, 0.81081081, 0.83783784, 0.97297297, 0.97222222,\n",
    "#       0.88888889, 0.91666667, 1.        , 0.94444444, 0.97222222])"
   ]
  },
  {
   "cell_type": "code",
   "execution_count": 23,
   "metadata": {},
   "outputs": [
    {
     "data": {
      "text/plain": [
       "(0.9180930930930931, 0.06157387447362209)"
      ]
     },
     "execution_count": 23,
     "metadata": {},
     "output_type": "execute_result"
    }
   ],
   "source": [
    "np.mean(cv_scores_gbc), np.std(cv_scores_gbc)\n",
    "#(0.9180930930930931, 0.06157387447362209)"
   ]
  },
  {
   "cell_type": "markdown",
   "metadata": {},
   "source": [
    "### 16.3.7.1.3 Hyperparameter search using GridSearchCV<a id='16.3.7.1.3_Hyperparameter_search_using_GridSearchCV'></a>"
   ]
  },
  {
   "cell_type": "code",
   "execution_count": 24,
   "metadata": {},
   "outputs": [
    {
     "data": {
      "text/plain": [
       "\"\\ndict_keys(['memory', 'steps', 'verbose', 'selectkbest', 'gradientboostingclassifier', \\n'selectkbest__k', 'selectkbest__score_func', 'gradientboostingclassifier__ccp_alpha', \\n'gradientboostingclassifier__criterion', 'gradientboostingclassifier__init', \\n'gradientboostingclassifier__learning_rate', 'gradientboostingclassifier__loss', \\n'gradientboostingclassifier__max_depth', 'gradientboostingclassifier__max_features', \\n'gradientboostingclassifier__max_leaf_nodes', 'gradientboostingclassifier__min_impurity_decrease', \\n'gradientboostingclassifier__min_impurity_split', 'gradientboostingclassifier__min_samples_leaf', \\n'gradientboostingclassifier__min_samples_split', 'gradientboostingclassifier__min_weight_fraction_leaf', \\n'gradientboostingclassifier__n_estimators', 'gradientboostingclassifier__n_iter_no_change', \\n'gradientboostingclassifier__presort', 'gradientboostingclassifier__random_state', 'gradientboostingclassifier__subsample', \\n'gradientboostingclassifier__tol', 'gradientboostingclassifier__validation_fraction', \\n'gradientboostingclassifier__verbose', 'gradientboostingclassifier__warm_start'])\\n\""
      ]
     },
     "execution_count": 24,
     "metadata": {},
     "output_type": "execute_result"
    }
   ],
   "source": [
    "kbest_gbc_pipe.get_params().keys()\n",
    "'''\n",
    "dict_keys(['memory', 'steps', 'verbose', 'selectkbest', 'gradientboostingclassifier', \n",
    "'selectkbest__k', 'selectkbest__score_func', 'gradientboostingclassifier__ccp_alpha', \n",
    "'gradientboostingclassifier__criterion', 'gradientboostingclassifier__init', \n",
    "'gradientboostingclassifier__learning_rate', 'gradientboostingclassifier__loss', \n",
    "'gradientboostingclassifier__max_depth', 'gradientboostingclassifier__max_features', \n",
    "'gradientboostingclassifier__max_leaf_nodes', 'gradientboostingclassifier__min_impurity_decrease', \n",
    "'gradientboostingclassifier__min_impurity_split', 'gradientboostingclassifier__min_samples_leaf', \n",
    "'gradientboostingclassifier__min_samples_split', 'gradientboostingclassifier__min_weight_fraction_leaf', \n",
    "'gradientboostingclassifier__n_estimators', 'gradientboostingclassifier__n_iter_no_change', \n",
    "'gradientboostingclassifier__presort', 'gradientboostingclassifier__random_state', 'gradientboostingclassifier__subsample', \n",
    "'gradientboostingclassifier__tol', 'gradientboostingclassifier__validation_fraction', \n",
    "'gradientboostingclassifier__verbose', 'gradientboostingclassifier__warm_start'])\n",
    "'''"
   ]
  },
  {
   "cell_type": "code",
   "execution_count": 25,
   "metadata": {},
   "outputs": [
    {
     "data": {
      "text/plain": [
       "\"\\n{'gradientboostingclassifier__n_estimators': [10,\\n  12,\\n  16,\\n  20,\\n  26,\\n  33,\\n  42,\\n  54,\\n  69,\\n  88,\\n  112,\\n  143,\\n  183,\\n  233,\\n  297,\\n  379,\\n  483,\\n  615,\\n  784,\\n  1000],\\n 'gradientboostingclassifier__learning_rate': [0.1, 0.25, 0.5, 0.75, 1.0],\\n 'gradientboostingclassifier__max_depth': [1, 2, 3, 4]}\\n\\n\""
      ]
     },
     "execution_count": 25,
     "metadata": {},
     "output_type": "execute_result"
    }
   ],
   "source": [
    "n_est_gbc = [int(n) for n in np.logspace(start=1, stop=3, num=20)]\n",
    "learning_rate_gbc = [0.1, 0.25, 0.5, 0.75, 1.0]\n",
    "max_depth_gbc = [1, 2, 3, 4]\n",
    "gbc_grid_params = {\n",
    "        'gradientboostingclassifier__n_estimators': n_est_gbc,\n",
    "        'gradientboostingclassifier__learning_rate': learning_rate_gbc,\n",
    "        'gradientboostingclassifier__max_depth': max_depth_gbc\n",
    "}\n",
    "gbc_grid_params\n",
    "'''\n",
    "{'gradientboostingclassifier__n_estimators': [10,\n",
    "  12,\n",
    "  16,\n",
    "  20,\n",
    "  26,\n",
    "  33,\n",
    "  42,\n",
    "  54,\n",
    "  69,\n",
    "  88,\n",
    "  112,\n",
    "  143,\n",
    "  183,\n",
    "  233,\n",
    "  297,\n",
    "  379,\n",
    "  483,\n",
    "  615,\n",
    "  784,\n",
    "  1000],\n",
    " 'gradientboostingclassifier__learning_rate': [0.1, 0.25, 0.5, 0.75, 1.0],\n",
    " 'gradientboostingclassifier__max_depth': [1, 2, 3, 4]}\n",
    "\n",
    "'''"
   ]
  },
  {
   "cell_type": "code",
   "execution_count": 26,
   "metadata": {},
   "outputs": [],
   "source": [
    "#10-fold cross-validation, all available CPU cores \n",
    "gbc_grid_cv = GridSearchCV(kbest_gbc_pipe, param_grid=gbc_grid_params, cv=10, n_jobs=-1)"
   ]
  },
  {
   "cell_type": "code",
   "execution_count": 27,
   "metadata": {},
   "outputs": [
    {
     "data": {
      "text/plain": [
       "GridSearchCV(cv=10,\n",
       "             estimator=Pipeline(steps=[('selectkbest', SelectKBest(k=16)),\n",
       "                                       ('gradientboostingclassifier',\n",
       "                                        GradientBoostingClassifier(learning_rate=1.0,\n",
       "                                                                   max_depth=1,\n",
       "                                                                   random_state=0))]),\n",
       "             n_jobs=-1,\n",
       "             param_grid={'gradientboostingclassifier__learning_rate': [0.1,\n",
       "                                                                       0.25,\n",
       "                                                                       0.5,\n",
       "                                                                       0.75,\n",
       "                                                                       1.0],\n",
       "                         'gradientboostingclassifier__max_depth': [1, 2, 3, 4],\n",
       "                         'gradientboostingclassifier__n_estimators': [10, 12,\n",
       "                                                                      16, 20,\n",
       "                                                                      26, 33,\n",
       "                                                                      42, 54,\n",
       "                                                                      69, 88,\n",
       "                                                                      112, 143,\n",
       "                                                                      183, 233,\n",
       "                                                                      297, 379,\n",
       "                                                                      483, 615,\n",
       "                                                                      784,\n",
       "                                                                      1000]})"
      ]
     },
     "execution_count": 27,
     "metadata": {},
     "output_type": "execute_result"
    }
   ],
   "source": [
    "gbc_grid_cv.fit(X_train, y_train)"
   ]
  },
  {
   "cell_type": "code",
   "execution_count": 28,
   "metadata": {},
   "outputs": [
    {
     "data": {
      "text/plain": [
       "{'gradientboostingclassifier__learning_rate': 0.25,\n",
       " 'gradientboostingclassifier__max_depth': 3,\n",
       " 'gradientboostingclassifier__n_estimators': 88}"
      ]
     },
     "execution_count": 28,
     "metadata": {},
     "output_type": "execute_result"
    }
   ],
   "source": [
    "#Best params (`best_params_` attribute) from the grid search\n",
    "gbc_grid_cv.best_params_\n",
    "#{'gradientboostingclassifier__learning_rate': 0.25,\n",
    "# 'gradientboostingclassifier__max_depth': 3,\n",
    "# 'gradientboostingclassifier__n_estimators': 88}"
   ]
  },
  {
   "cell_type": "code",
   "execution_count": 29,
   "metadata": {},
   "outputs": [
    {
     "data": {
      "text/plain": [
       "array([0.94594595, 0.91891892, 0.89189189, 1.        , 1.        ,\n",
       "       1.        , 0.94444444, 1.        , 1.        , 0.97222222])"
      ]
     },
     "execution_count": 29,
     "metadata": {},
     "output_type": "execute_result"
    }
   ],
   "source": [
    "gbc_best_cv_results = cross_validate(gbc_grid_cv.best_estimator_, X_train, y_train, cv=10)\n",
    "gbc_best_scores = gbc_best_cv_results['test_score']\n",
    "gbc_best_scores\n",
    "#array([0.94594595, 0.91891892, 0.89189189, 1.        , 1.        ,\n",
    "#       1.        , 0.94444444, 1.        , 1.        , 0.97222222])"
   ]
  },
  {
   "cell_type": "code",
   "execution_count": 30,
   "metadata": {},
   "outputs": [
    {
     "data": {
      "text/plain": [
       "(0.9673423423423422, 0.03791588606663465)"
      ]
     },
     "execution_count": 30,
     "metadata": {},
     "output_type": "execute_result"
    }
   ],
   "source": [
    "np.mean(gbc_best_scores), np.std(gbc_best_scores)\n",
    "#(0.9673423423423422, 0.03791588606663465)"
   ]
  },
  {
   "cell_type": "code",
   "execution_count": 31,
   "metadata": {},
   "outputs": [],
   "source": [
    "# 'neg_mean_absolute_error' uses the (negative of) the mean absolute error\n",
    "gbc_neg_mae = cross_validate(gbc_grid_cv.best_estimator_, X_train, y_train, \n",
    "                            scoring='neg_mean_absolute_error', cv=10, n_jobs=-1)"
   ]
  },
  {
   "cell_type": "code",
   "execution_count": 32,
   "metadata": {},
   "outputs": [
    {
     "data": {
      "text/plain": [
       "(0.03265765765765766, 0.03791588606663466)"
      ]
     },
     "execution_count": 32,
     "metadata": {},
     "output_type": "execute_result"
    }
   ],
   "source": [
    "gbc_mae_mean = np.mean(-1 * gbc_neg_mae['test_score'])\n",
    "gbc_mae_std = np.std(-1 * gbc_neg_mae['test_score'])\n",
    "gbc_mae_mean, gbc_mae_std\n",
    "#(0.03265765765765766, 0.03791588606663466)"
   ]
  },
  {
   "cell_type": "code",
   "execution_count": 33,
   "metadata": {},
   "outputs": [
    {
     "data": {
      "text/plain": [
       "0.03205128205128205"
      ]
     },
     "execution_count": 33,
     "metadata": {},
     "output_type": "execute_result"
    }
   ],
   "source": [
    "mean_absolute_error(y_test, gbc_grid_cv.best_estimator_.predict(X_test))\n",
    "#0.03205128205128205"
   ]
  },
  {
   "cell_type": "markdown",
   "metadata": {},
   "source": [
    "## 16.3.7.2 Linear SVC Model<a id='16.3.7.2_Linear_SVC_Model'></a>"
   ]
  },
  {
   "cell_type": "markdown",
   "metadata": {},
   "source": [
    "### 16.3.7.2.1 Assess performance on train and test data<a id='16.3.7.2.1_Assess_performance_on_train_and_test_data'></a>"
   ]
  },
  {
   "cell_type": "code",
   "execution_count": 34,
   "metadata": {},
   "outputs": [],
   "source": [
    "y_tr_pred_lsvc = kbest_lsvc_pipe.predict(X_train)\n",
    "y_te_pred_lsvc = kbest_lsvc_pipe.predict(X_test)\n",
    "\n",
    "r2_score_train_lsvc, r2_score_test_lsvc = r2_score(y_train, y_tr_pred_lsvc), r2_score(y_test, y_te_pred_lsvc)\n",
    "\n",
    "mae_train_lsvc, mae_test_lsvc = mean_absolute_error(y_train, y_tr_pred_lsvc), mean_absolute_error(y_test, y_te_pred_lsvc)\n",
    "\n",
    "confusion_matrix_train_lsvc = confusion_matrix(y_train, y_tr_pred_lsvc)\n",
    "confusion_matrix_test_lsvc = confusion_matrix(y_test, y_te_pred_lsvc)"
   ]
  },
  {
   "cell_type": "code",
   "execution_count": 35,
   "metadata": {},
   "outputs": [
    {
     "data": {
      "text/plain": [
       "(0.6882375333079559, 0.752990851513019)"
      ]
     },
     "execution_count": 35,
     "metadata": {},
     "output_type": "execute_result"
    }
   ],
   "source": [
    "r2_score_train_lsvc, r2_score_test_lsvc\n",
    "#(0.6882375333079559, 0.752990851513019)"
   ]
  },
  {
   "cell_type": "code",
   "execution_count": 36,
   "metadata": {},
   "outputs": [
    {
     "data": {
      "text/plain": [
       "(0.07417582417582418, 0.057692307692307696)"
      ]
     },
     "execution_count": 36,
     "metadata": {},
     "output_type": "execute_result"
    }
   ],
   "source": [
    "mae_train_lsvc, mae_test_lsvc\n",
    "#(0.07417582417582418, 0.057692307692307696)"
   ]
  },
  {
   "cell_type": "code",
   "execution_count": 37,
   "metadata": {},
   "outputs": [
    {
     "data": {
      "text/plain": [
       "array([[127,  15],\n",
       "       [ 12, 210]], dtype=int64)"
      ]
     },
     "execution_count": 37,
     "metadata": {},
     "output_type": "execute_result"
    }
   ],
   "source": [
    "confusion_matrix_train_lsvc\n",
    "#-- tn fp\n",
    "#-- fn tp\n",
    "#array([[127,  15],\n",
    "#       [ 12, 210]], dtype=int64)"
   ]
  },
  {
   "cell_type": "code",
   "execution_count": 38,
   "metadata": {},
   "outputs": [
    {
     "data": {
      "text/plain": [
       "array([[52,  6],\n",
       "       [ 3, 95]], dtype=int64)"
      ]
     },
     "execution_count": 38,
     "metadata": {},
     "output_type": "execute_result"
    }
   ],
   "source": [
    "confusion_matrix_test_lsvc\n",
    "#-- tn fp\n",
    "#-- fn tp\n",
    "#array([[52,  6],\n",
    "#       [ 3, 95]], dtype=int64)"
   ]
  },
  {
   "cell_type": "markdown",
   "metadata": {},
   "source": [
    "### 16.3.7.2.2 Assessing performance using cross-validation<a id='16.3.7.2.2_Assessing_performance_using_cross-validation'></a>"
   ]
  },
  {
   "cell_type": "code",
   "execution_count": 39,
   "metadata": {},
   "outputs": [],
   "source": [
    "cv_results_lsvc = cross_validate(kbest_lsvc_pipe, X_train, y_train, cv=10)"
   ]
  },
  {
   "cell_type": "code",
   "execution_count": 40,
   "metadata": {},
   "outputs": [
    {
     "data": {
      "text/plain": [
       "\"\\n{'fit_time': array([0.00986552, 0.00763369, 0.00889516, 0.00816965, 0.01010942,\\n        0.01074672, 0.00820708, 0.00800085, 0.00741076, 0.00599647]),\\n 'score_time': array([0.00157022, 0.00306129, 0.00257707, 0.00300193, 0.00613594,\\n        0.00353813, 0.00276423, 0.00192881, 0.00200558, 0.00200033]),\\n 'test_score': array([0.86486486, 0.81081081, 0.83783784, 0.94594595, 0.97222222,\\n        0.88888889, 0.91666667, 1.        , 0.91666667, 0.94444444])}\\n\""
      ]
     },
     "execution_count": 40,
     "metadata": {},
     "output_type": "execute_result"
    }
   ],
   "source": [
    "cv_results_lsvc\n",
    "'''\n",
    "{'fit_time': array([0.00986552, 0.00763369, 0.00889516, 0.00816965, 0.01010942,\n",
    "        0.01074672, 0.00820708, 0.00800085, 0.00741076, 0.00599647]),\n",
    " 'score_time': array([0.00157022, 0.00306129, 0.00257707, 0.00300193, 0.00613594,\n",
    "        0.00353813, 0.00276423, 0.00192881, 0.00200558, 0.00200033]),\n",
    " 'test_score': array([0.86486486, 0.81081081, 0.83783784, 0.94594595, 0.97222222,\n",
    "        0.88888889, 0.91666667, 1.        , 0.91666667, 0.94444444])}\n",
    "'''"
   ]
  },
  {
   "cell_type": "code",
   "execution_count": 41,
   "metadata": {},
   "outputs": [
    {
     "data": {
      "text/plain": [
       "array([0.86486486, 0.81081081, 0.83783784, 0.94594595, 0.97222222,\n",
       "       0.88888889, 0.91666667, 1.        , 0.91666667, 0.94444444])"
      ]
     },
     "execution_count": 41,
     "metadata": {},
     "output_type": "execute_result"
    }
   ],
   "source": [
    "cv_scores_lsvc = cv_results_lsvc['test_score']\n",
    "cv_scores_lsvc\n",
    "#array([0.86486486, 0.81081081, 0.83783784, 0.94594595, 0.97222222,\n",
    "#       0.88888889, 0.91666667, 1.        , 0.91666667, 0.94444444])"
   ]
  },
  {
   "cell_type": "code",
   "execution_count": 42,
   "metadata": {},
   "outputs": [
    {
     "data": {
      "text/plain": [
       "(0.9098348348348348, 0.056628159206191284)"
      ]
     },
     "execution_count": 42,
     "metadata": {},
     "output_type": "execute_result"
    }
   ],
   "source": [
    "np.mean(cv_scores_lsvc), np.std(cv_scores_lsvc)\n",
    "#(0.9098348348348348, 0.056628159206191284)"
   ]
  },
  {
   "cell_type": "markdown",
   "metadata": {},
   "source": [
    "### 16.3.7.2.3 Hyperparameter search using GridSearchCV<a id='16.3.7.2.3_Hyperparameter_search_using_GridSearchCV'></a>"
   ]
  },
  {
   "cell_type": "code",
   "execution_count": 43,
   "metadata": {},
   "outputs": [
    {
     "data": {
      "text/plain": [
       "\"\\ndict_keys(['memory', 'steps', 'verbose', 'selectkbest', 'linearsvc', 'selectkbest__k',\\n'selectkbest__score_func', 'linearsvc__C', 'linearsvc__class_weight', 'linearsvc__dual',\\n'linearsvc__fit_intercept', 'linearsvc__intercept_scaling', 'linearsvc__loss', 'linearsvc__max_iter', \\n'linearsvc__multi_class', 'linearsvc__penalty', 'linearsvc__random_state', 'linearsvc__tol', 'linearsvc__verbose'])\\n\""
      ]
     },
     "execution_count": 43,
     "metadata": {},
     "output_type": "execute_result"
    }
   ],
   "source": [
    "kbest_lsvc_pipe.get_params().keys()\n",
    "'''\n",
    "dict_keys(['memory', 'steps', 'verbose', 'selectkbest', 'linearsvc', 'selectkbest__k',\n",
    "'selectkbest__score_func', 'linearsvc__C', 'linearsvc__class_weight', 'linearsvc__dual',\n",
    "'linearsvc__fit_intercept', 'linearsvc__intercept_scaling', 'linearsvc__loss', 'linearsvc__max_iter', \n",
    "'linearsvc__multi_class', 'linearsvc__penalty', 'linearsvc__random_state', 'linearsvc__tol', 'linearsvc__verbose'])\n",
    "'''"
   ]
  },
  {
   "cell_type": "code",
   "execution_count": 44,
   "metadata": {},
   "outputs": [
    {
     "data": {
      "text/plain": [
       "dict_keys(['memory', 'steps', 'verbose', 'linearsvc', 'linearsvc__C', 'linearsvc__class_weight', 'linearsvc__dual', 'linearsvc__fit_intercept', 'linearsvc__intercept_scaling', 'linearsvc__loss', 'linearsvc__max_iter', 'linearsvc__multi_class', 'linearsvc__penalty', 'linearsvc__random_state', 'linearsvc__tol', 'linearsvc__verbose'])"
      ]
     },
     "execution_count": 44,
     "metadata": {},
     "output_type": "execute_result"
    }
   ],
   "source": [
    "lsvc_pipe = make_pipeline(lsvc)\n",
    "lsvc_pipe.get_params().keys()"
   ]
  },
  {
   "cell_type": "code",
   "execution_count": 45,
   "metadata": {},
   "outputs": [
    {
     "data": {
      "text/plain": [
       "\"\\n{'linearsvc__tol': [1e-07, 1e-06, 1e-05, 0.0001, 0.001]}\\n\""
      ]
     },
     "execution_count": 45,
     "metadata": {},
     "output_type": "execute_result"
    }
   ],
   "source": [
    "tol_lsvc = [1e-07, 1e-06, 1e-05, 1e-04, 1e-03]\n",
    "lsvc_grid_params = {\n",
    "        'linearsvc__tol': tol_lsvc\n",
    "}\n",
    "lsvc_grid_params\n",
    "'''\n",
    "{'linearsvc__tol': [1e-07, 1e-06, 1e-05, 0.0001, 0.001]}\n",
    "'''"
   ]
  },
  {
   "cell_type": "code",
   "execution_count": 46,
   "metadata": {},
   "outputs": [],
   "source": [
    "#10-fold cross-validation, all available CPU cores \n",
    "lsvc_grid_cv = GridSearchCV(kbest_lsvc_pipe, param_grid=lsvc_grid_params, cv=10, n_jobs=-1)"
   ]
  },
  {
   "cell_type": "code",
   "execution_count": 47,
   "metadata": {},
   "outputs": [
    {
     "data": {
      "text/plain": [
       "\"\\nGridSearchCV(cv=10,\\n             estimator=Pipeline(steps=[('selectkbest', SelectKBest(k=16)),\\n                                       ('linearsvc',\\n                                        LinearSVC(random_state=0, tol=1e-05))]),\\n             n_jobs=-1,\\n             param_grid={'linearsvc__tol': [1e-07, 1e-06, 1e-05, 0.0001,\\n                                            0.001]})\\n\""
      ]
     },
     "execution_count": 47,
     "metadata": {},
     "output_type": "execute_result"
    }
   ],
   "source": [
    "lsvc_grid_cv.fit(X_train, y_train)\n",
    "'''\n",
    "GridSearchCV(cv=10,\n",
    "             estimator=Pipeline(steps=[('selectkbest', SelectKBest(k=16)),\n",
    "                                       ('linearsvc',\n",
    "                                        LinearSVC(random_state=0, tol=1e-05))]),\n",
    "             n_jobs=-1,\n",
    "             param_grid={'linearsvc__tol': [1e-07, 1e-06, 1e-05, 0.0001,\n",
    "                                            0.001]})\n",
    "'''"
   ]
  },
  {
   "cell_type": "code",
   "execution_count": 48,
   "metadata": {},
   "outputs": [
    {
     "data": {
      "text/plain": [
       "{'linearsvc__tol': 1e-07}"
      ]
     },
     "execution_count": 48,
     "metadata": {},
     "output_type": "execute_result"
    }
   ],
   "source": [
    "#Best params (`best_params_` attribute) from the grid search\n",
    "lsvc_grid_cv.best_params_"
   ]
  },
  {
   "cell_type": "code",
   "execution_count": 49,
   "metadata": {},
   "outputs": [
    {
     "data": {
      "text/plain": [
       "array([0.86486486, 0.81081081, 0.83783784, 0.94594595, 0.97222222,\n",
       "       0.88888889, 0.91666667, 1.        , 0.91666667, 0.94444444])"
      ]
     },
     "execution_count": 49,
     "metadata": {},
     "output_type": "execute_result"
    }
   ],
   "source": [
    "lsvc_best_cv_results = cross_validate(lsvc_grid_cv.best_estimator_, X_train, y_train, cv=10)\n",
    "lsvc_best_scores = lsvc_best_cv_results['test_score']\n",
    "lsvc_best_scores\n",
    "#array([0.86486486, 0.81081081, 0.83783784, 0.94594595, 0.97222222,\n",
    "#       0.88888889, 0.91666667, 1.        , 0.91666667, 0.94444444])"
   ]
  },
  {
   "cell_type": "code",
   "execution_count": 50,
   "metadata": {},
   "outputs": [
    {
     "data": {
      "text/plain": [
       "(0.9098348348348348, 0.056628159206191284)"
      ]
     },
     "execution_count": 50,
     "metadata": {},
     "output_type": "execute_result"
    }
   ],
   "source": [
    "np.mean(lsvc_best_scores), np.std(lsvc_best_scores)\n",
    "#(0.9098348348348348, 0.056628159206191284)"
   ]
  },
  {
   "cell_type": "code",
   "execution_count": 51,
   "metadata": {},
   "outputs": [],
   "source": [
    "# 'neg_mean_absolute_error' uses the (negative of) the mean absolute error\n",
    "lsvc_neg_mae = cross_validate(lsvc_grid_cv.best_estimator_, X_train, y_train, \n",
    "                            scoring='neg_mean_absolute_error', cv=10, n_jobs=-1)"
   ]
  },
  {
   "cell_type": "code",
   "execution_count": 52,
   "metadata": {},
   "outputs": [
    {
     "data": {
      "text/plain": [
       "(0.09016516516516518, 0.0566281592061913)"
      ]
     },
     "execution_count": 52,
     "metadata": {},
     "output_type": "execute_result"
    }
   ],
   "source": [
    "lsvc_mae_mean = np.mean(-1 * lsvc_neg_mae['test_score'])\n",
    "lsvc_mae_std = np.std(-1 * lsvc_neg_mae['test_score'])\n",
    "lsvc_mae_mean, lsvc_mae_std\n",
    "#(0.09016516516516518, 0.0566281592061913)"
   ]
  },
  {
   "cell_type": "code",
   "execution_count": 53,
   "metadata": {},
   "outputs": [
    {
     "data": {
      "text/plain": [
       "0.057692307692307696"
      ]
     },
     "execution_count": 53,
     "metadata": {},
     "output_type": "execute_result"
    }
   ],
   "source": [
    "mean_absolute_error(y_test, lsvc_grid_cv.best_estimator_.predict(X_test))\n",
    "#0.057692307692307696"
   ]
  },
  {
   "cell_type": "markdown",
   "metadata": {},
   "source": [
    "## 16.3.7.3 Logistic Regression Model<a id='16.3.7.3_Logistic_Regression_Model'></a>"
   ]
  },
  {
   "cell_type": "markdown",
   "metadata": {},
   "source": [
    "### 16.3.7.3.1 Assess performance on train and test data<a id='16.3.7.3.1_Assess_performance_on_train_and_test_data'></a>"
   ]
  },
  {
   "cell_type": "code",
   "execution_count": 54,
   "metadata": {},
   "outputs": [],
   "source": [
    "y_tr_pred_lr = kbest_lr_pipe.predict(X_train)\n",
    "y_te_pred_lr = kbest_lr_pipe.predict(X_test)\n",
    "\n",
    "r2_score_train_lr, r2_score_test_lr = r2_score(y_train, y_tr_pred_lr), r2_score(y_test, y_te_pred_lr)\n",
    "\n",
    "mae_train_lr, mae_test_lr = mean_absolute_error(y_train, y_tr_pred_lr), mean_absolute_error(y_test, y_te_pred_lr)\n",
    "\n",
    "confusion_matrix_train_lr = confusion_matrix(y_train, y_tr_pred_lr)\n",
    "confusion_matrix_test_lr = confusion_matrix(y_test, y_te_pred_lr)"
   ]
  },
  {
   "cell_type": "code",
   "execution_count": 55,
   "metadata": {},
   "outputs": [
    {
     "data": {
      "text/plain": [
       "(0.7113310493592184, 0.752990851513019)"
      ]
     },
     "execution_count": 55,
     "metadata": {},
     "output_type": "execute_result"
    }
   ],
   "source": [
    "r2_score_train_lr, r2_score_test_lr\n",
    "#(0.7113310493592184, 0.752990851513019)"
   ]
  },
  {
   "cell_type": "code",
   "execution_count": 56,
   "metadata": {},
   "outputs": [
    {
     "data": {
      "text/plain": [
       "(0.06868131868131869, 0.057692307692307696)"
      ]
     },
     "execution_count": 56,
     "metadata": {},
     "output_type": "execute_result"
    }
   ],
   "source": [
    "mae_train_lr, mae_test_lr\n",
    "#(0.06868131868131869, 0.057692307692307696)"
   ]
  },
  {
   "cell_type": "code",
   "execution_count": 57,
   "metadata": {},
   "outputs": [
    {
     "data": {
      "text/plain": [
       "array([[130,  12],\n",
       "       [ 13, 209]], dtype=int64)"
      ]
     },
     "execution_count": 57,
     "metadata": {},
     "output_type": "execute_result"
    }
   ],
   "source": [
    "confusion_matrix_train_lr\n",
    "#-- tn fp\n",
    "#-- fn tp\n",
    "#array([[130,  12],\n",
    "#       [ 13, 209]], dtype=int64)"
   ]
  },
  {
   "cell_type": "code",
   "execution_count": 58,
   "metadata": {},
   "outputs": [
    {
     "data": {
      "text/plain": [
       "array([[53,  5],\n",
       "       [ 4, 94]], dtype=int64)"
      ]
     },
     "execution_count": 58,
     "metadata": {},
     "output_type": "execute_result"
    }
   ],
   "source": [
    "confusion_matrix_test_lr\n",
    "#-- tn fp\n",
    "#-- fn tp\n",
    "#array([[53,  5],\n",
    "#       [ 4, 94]], dtype=int64)"
   ]
  },
  {
   "cell_type": "markdown",
   "metadata": {},
   "source": [
    "### 16.3.7.3.2 Assessing performance using cross-validation<a id='16.3.7.3.2_Assessing_performance_using_cross-validation'></a>"
   ]
  },
  {
   "cell_type": "code",
   "execution_count": 59,
   "metadata": {},
   "outputs": [],
   "source": [
    "cv_results_lr = cross_validate(kbest_lr_pipe, X_train, y_train, cv=10)"
   ]
  },
  {
   "cell_type": "code",
   "execution_count": 60,
   "metadata": {},
   "outputs": [
    {
     "data": {
      "text/plain": [
       "\"\\n{'fit_time': array([0.0188055 , 0.01344538, 0.01358414, 0.01317668, 0.01239085,\\n        0.01544642, 0.0133152 , 0.01203704, 0.01411843, 0.01345062]),\\n 'score_time': array([0.00284028, 0.00421214, 0.00289226, 0.00288892, 0.00239873,\\n        0.00444412, 0.00222564, 0.00248575, 0.00349951, 0.00324774]),\\n 'test_score': array([0.89189189, 0.75675676, 0.81081081, 0.97297297, 1.        ,\\n        0.88888889, 0.91666667, 1.        , 0.91666667, 0.94444444])}\\n\""
      ]
     },
     "execution_count": 60,
     "metadata": {},
     "output_type": "execute_result"
    }
   ],
   "source": [
    "cv_results_lr\n",
    "'''\n",
    "{'fit_time': array([0.0188055 , 0.01344538, 0.01358414, 0.01317668, 0.01239085,\n",
    "        0.01544642, 0.0133152 , 0.01203704, 0.01411843, 0.01345062]),\n",
    " 'score_time': array([0.00284028, 0.00421214, 0.00289226, 0.00288892, 0.00239873,\n",
    "        0.00444412, 0.00222564, 0.00248575, 0.00349951, 0.00324774]),\n",
    " 'test_score': array([0.89189189, 0.75675676, 0.81081081, 0.97297297, 1.        ,\n",
    "        0.88888889, 0.91666667, 1.        , 0.91666667, 0.94444444])}\n",
    "'''"
   ]
  },
  {
   "cell_type": "code",
   "execution_count": 61,
   "metadata": {},
   "outputs": [
    {
     "data": {
      "text/plain": [
       "array([0.89189189, 0.75675676, 0.81081081, 0.97297297, 1.        ,\n",
       "       0.88888889, 0.91666667, 1.        , 0.91666667, 0.94444444])"
      ]
     },
     "execution_count": 61,
     "metadata": {},
     "output_type": "execute_result"
    }
   ],
   "source": [
    "cv_scores_lr = cv_results_lr['test_score']\n",
    "cv_scores_lr\n",
    "#array([0.89189189, 0.75675676, 0.81081081, 0.97297297, 1.        ,\n",
    "#       0.88888889, 0.91666667, 1.        , 0.91666667, 0.94444444])"
   ]
  },
  {
   "cell_type": "code",
   "execution_count": 62,
   "metadata": {},
   "outputs": [
    {
     "data": {
      "text/plain": [
       "(0.9099099099099099, 0.07452274300379981)"
      ]
     },
     "execution_count": 62,
     "metadata": {},
     "output_type": "execute_result"
    }
   ],
   "source": [
    "np.mean(cv_scores_lr), np.std(cv_scores_lr)\n",
    "#(0.9099099099099099, 0.07452274300379981)"
   ]
  },
  {
   "cell_type": "markdown",
   "metadata": {},
   "source": [
    "### 16.3.7.3.3 Hyperparameter search using GridSearchCV<a id='16.3.7.3.3_Hyperparameter_search_using_GridSearchCV'></a>"
   ]
  },
  {
   "cell_type": "code",
   "execution_count": 63,
   "metadata": {},
   "outputs": [
    {
     "data": {
      "text/plain": [
       "\"\\ndict_keys(['memory', 'steps', 'verbose', 'selectkbest', 'logisticregression',\\n'selectkbest__k', 'selectkbest__score_func', 'logisticregression__C', 'logisticregression__class_weight', \\n'logisticregression__dual', 'logisticregression__fit_intercept', 'logisticregression__intercept_scaling', \\n'logisticregression__l1_ratio', 'logisticregression__max_iter', 'logisticregression__multi_class', \\n'logisticregression__n_jobs', 'logisticregression__penalty', 'logisticregression__random_state', \\n'logisticregression__solver', 'logisticregression__tol', 'logisticregression__verbose', 'logisticregression__warm_start'])\\n\""
      ]
     },
     "execution_count": 63,
     "metadata": {},
     "output_type": "execute_result"
    }
   ],
   "source": [
    "kbest_lr_pipe.get_params().keys()\n",
    "'''\n",
    "dict_keys(['memory', 'steps', 'verbose', 'selectkbest', 'logisticregression',\n",
    "'selectkbest__k', 'selectkbest__score_func', 'logisticregression__C', 'logisticregression__class_weight', \n",
    "'logisticregression__dual', 'logisticregression__fit_intercept', 'logisticregression__intercept_scaling', \n",
    "'logisticregression__l1_ratio', 'logisticregression__max_iter', 'logisticregression__multi_class', \n",
    "'logisticregression__n_jobs', 'logisticregression__penalty', 'logisticregression__random_state', \n",
    "'logisticregression__solver', 'logisticregression__tol', 'logisticregression__verbose', 'logisticregression__warm_start'])\n",
    "'''"
   ]
  },
  {
   "cell_type": "code",
   "execution_count": 64,
   "metadata": {},
   "outputs": [],
   "source": [
    "solver_lr = ['newton-cg', 'lbfgs', 'liblinear', 'sag', 'saga']"
   ]
  },
  {
   "cell_type": "code",
   "execution_count": 65,
   "metadata": {},
   "outputs": [
    {
     "data": {
      "text/plain": [
       "\"\\n{'logisticregression__solver': ['newton-cg',\\n  'lbfgs',\\n  'liblinear',\\n  'sag',\\n  'saga']}\\n\""
      ]
     },
     "execution_count": 65,
     "metadata": {},
     "output_type": "execute_result"
    }
   ],
   "source": [
    "lr_grid_params = {\n",
    "        'logisticregression__solver': solver_lr\n",
    "}\n",
    "lr_grid_params\n",
    "'''\n",
    "{'logisticregression__solver': ['newton-cg',\n",
    "  'lbfgs',\n",
    "  'liblinear',\n",
    "  'sag',\n",
    "  'saga']}\n",
    "'''"
   ]
  },
  {
   "cell_type": "code",
   "execution_count": 66,
   "metadata": {},
   "outputs": [],
   "source": [
    "#10-fold cross-validation, all available CPU cores \n",
    "lr_grid_cv = GridSearchCV(kbest_lr_pipe, param_grid=lr_grid_params, cv=10, n_jobs=-1)"
   ]
  },
  {
   "cell_type": "code",
   "execution_count": 67,
   "metadata": {},
   "outputs": [
    {
     "data": {
      "text/plain": [
       "\"\\nGridSearchCV(cv=10,\\n             estimator=Pipeline(steps=[('selectkbest', SelectKBest(k=16)),\\n                                       ('logisticregression',\\n                                        LogisticRegression(random_state=0))]),\\n             n_jobs=-1,\\n             param_grid={'logisticregression__solver': ['newton-cg', 'lbfgs',\\n                                                        'liblinear', 'sag',\\n                                                        'saga']})\\n\""
      ]
     },
     "execution_count": 67,
     "metadata": {},
     "output_type": "execute_result"
    }
   ],
   "source": [
    "lr_grid_cv.fit(X_train, y_train)\n",
    "'''\n",
    "GridSearchCV(cv=10,\n",
    "             estimator=Pipeline(steps=[('selectkbest', SelectKBest(k=16)),\n",
    "                                       ('logisticregression',\n",
    "                                        LogisticRegression(random_state=0))]),\n",
    "             n_jobs=-1,\n",
    "             param_grid={'logisticregression__solver': ['newton-cg', 'lbfgs',\n",
    "                                                        'liblinear', 'sag',\n",
    "                                                        'saga']})\n",
    "'''"
   ]
  },
  {
   "cell_type": "code",
   "execution_count": 68,
   "metadata": {},
   "outputs": [
    {
     "data": {
      "text/plain": [
       "{'logisticregression__solver': 'newton-cg'}"
      ]
     },
     "execution_count": 68,
     "metadata": {},
     "output_type": "execute_result"
    }
   ],
   "source": [
    "lr_grid_cv.best_params_\n",
    "#{'logisticregression__solver': 'newton-cg'}"
   ]
  },
  {
   "cell_type": "code",
   "execution_count": 69,
   "metadata": {
    "scrolled": true
   },
   "outputs": [
    {
     "data": {
      "text/plain": [
       "array([0.89189189, 0.75675676, 0.81081081, 0.97297297, 1.        ,\n",
       "       0.88888889, 0.91666667, 1.        , 0.91666667, 0.94444444])"
      ]
     },
     "execution_count": 69,
     "metadata": {},
     "output_type": "execute_result"
    }
   ],
   "source": [
    "lr_best_cv_results = cross_validate(lr_grid_cv.best_estimator_, X_train, y_train, cv=10)\n",
    "lr_best_scores = lr_best_cv_results['test_score']\n",
    "lr_best_scores\n",
    "#array([0.89189189, 0.75675676, 0.81081081, 0.97297297, 1.        ,\n",
    "#       0.88888889, 0.91666667, 1.        , 0.91666667, 0.94444444])"
   ]
  },
  {
   "cell_type": "code",
   "execution_count": 70,
   "metadata": {},
   "outputs": [
    {
     "data": {
      "text/plain": [
       "(0.9099099099099099, 0.07452274300379981)"
      ]
     },
     "execution_count": 70,
     "metadata": {},
     "output_type": "execute_result"
    }
   ],
   "source": [
    "np.mean(lr_best_scores), np.std(lr_best_scores)\n",
    "#(0.9099099099099099, 0.07452274300379981)"
   ]
  },
  {
   "cell_type": "code",
   "execution_count": 71,
   "metadata": {},
   "outputs": [],
   "source": [
    "# 'neg_mean_absolute_error' uses the (negative of) the mean absolute error\n",
    "lr_neg_mae = cross_validate(lr_grid_cv.best_estimator_, X_train, y_train, \n",
    "                            scoring='neg_mean_absolute_error', cv=10, n_jobs=-1)"
   ]
  },
  {
   "cell_type": "code",
   "execution_count": 72,
   "metadata": {},
   "outputs": [
    {
     "data": {
      "text/plain": [
       "(0.09009009009009009, 0.07452274300379984)"
      ]
     },
     "execution_count": 72,
     "metadata": {},
     "output_type": "execute_result"
    }
   ],
   "source": [
    "lr_mae_mean = np.mean(-1 * lr_neg_mae['test_score'])\n",
    "lr_mae_std = np.std(-1 * lr_neg_mae['test_score'])\n",
    "lr_mae_mean, lr_mae_std\n",
    "#(0.09009009009009009, 0.07452274300379984)"
   ]
  },
  {
   "cell_type": "code",
   "execution_count": 73,
   "metadata": {},
   "outputs": [
    {
     "data": {
      "text/plain": [
       "0.057692307692307696"
      ]
     },
     "execution_count": 73,
     "metadata": {},
     "output_type": "execute_result"
    }
   ],
   "source": [
    "mean_absolute_error(y_test, lr_grid_cv.best_estimator_.predict(X_test))\n",
    "0.057692307692307696"
   ]
  },
  {
   "cell_type": "markdown",
   "metadata": {},
   "source": [
    "# 16.3.8 Final Model Selection<a id='16.3.8_Final_Model_Selection'></a>"
   ]
  },
  {
   "cell_type": "markdown",
   "metadata": {},
   "source": [
    "## 16.3.8.1 Gradient Boosting Classifier Performance<a id='16.3.8.1_Gradient_Boosting_Classifier_Performance'></a>"
   ]
  },
  {
   "cell_type": "markdown",
   "metadata": {},
   "source": [
    "Summary of results with some given hyperparameters:\n",
    "- r2 train score: 0.71\n",
    "- mae train score: 0.07\n",
    "- confusion matrix train (tp fp fn tn): 129, 13, 12, 210\n",
    "- r2 test score: 0.78\n",
    "- mae test score: 0.05\n",
    "- confusion matrix test (tp fp fn tn): 53, 5, 3, 95\n",
    "- mean of cross-validated scores: 0.92\n",
    "- standard deviation of cross-validated scores: 0.06\n",
    "\n",
    "Summary of results with some best GridSearchCV hyperparameters:\n",
    "- mean of cross-validated scores using default scoring for estimator train score: 0.97\n",
    "- standard deviation of cross-validated scores using default scoring for estimator train score: 0.04\n",
    "- mean of cross-validated scores using mae for estimator train score: 0.03\n",
    "- standard deviation of cross-validated scores using mae for estimator train score: 0.04\n",
    "- mae test score: 0.03"
   ]
  },
  {
   "cell_type": "markdown",
   "metadata": {},
   "source": [
    "## 16.3.8.2 Linear SVC Performance<a id='16.3.8.2_Linear_SVC_Performance'></a>"
   ]
  },
  {
   "cell_type": "markdown",
   "metadata": {},
   "source": [
    "Summary of results with some given hyperparameters:\n",
    "- r2 train score: 0.69\n",
    "- mae train score: 0.07\n",
    "- confusion matrix train (tp fp fn tn): 127, 15, 12, 210\n",
    "- r2 test score: 0.75\n",
    "- mae test score: 0.06\n",
    "- confusion matrix test (tp fp fn tn): 52, 6, 3, 95\n",
    "- mean of cross-validated scores: 0.91\n",
    "- standard deviation of cross-validated scores: 0.06\n",
    "\n",
    "Summary of results with some best GridSearchCV hyperparameters:\n",
    "- mean of cross-validated scores using default scoring for estimator train score: 0.91\n",
    "- standard deviation of cross-validated scores using default scoring for estimator train score: 0.06\n",
    "- mean of cross-validated scores using mae for estimator train score: 0.09\n",
    "- standard deviation of cross-validated scores using mae for estimator train score: 0.06\n",
    "- mae test score: 0.06"
   ]
  },
  {
   "cell_type": "markdown",
   "metadata": {},
   "source": [
    "## 16.3.8.3 Logistic Regression Performance<a id='16.3.8.3_Logistic_Regression_Performance'></a>"
   ]
  },
  {
   "cell_type": "markdown",
   "metadata": {},
   "source": [
    "Summary of results with some given hyperparameters:\n",
    "- r2 train score: 0.71\n",
    "- mae train score: 0.07\n",
    "- confusion matrix train (tp fp fn tn): 130, 12, 13, 209\n",
    "- r2 test score: 0.75\n",
    "- mae test score: 0.06\n",
    "- confusion matrix test (tp fp fn tn): 53, 5, 4, 94\n",
    "- mean of cross-validated scores: 0.91\n",
    "- standard deviation of cross-validated scores: 0.07\n",
    "\n",
    "Summary of results with some best GridSearchCV hyperparameters:\n",
    "- mean of cross-validated scores using default scoring for estimator train score: 0.91\n",
    "- standard deviation of cross-validated scores using default scoring for estimator train score: 0.07\n",
    "- mean of cross-validated scores using mae for estimator train score: 0.09\n",
    "- standard deviation of cross-validated scores using mae for estimator train score: 0.07\n",
    "- mae test score: 0.06"
   ]
  },
  {
   "cell_type": "markdown",
   "metadata": {},
   "source": [
    "## 16.3.8.4 Conclusion<a id='16.3.8.4_Conclusion'></a>"
   ]
  },
  {
   "cell_type": "markdown",
   "metadata": {},
   "source": [
    "The performance of the gradient boosting classifier (gbc), linear svc (lsvc), and logistic regression (lr) models were compared.\n",
    "\n",
    "Of these, the gbc model appears to be the winner.  This conclusion is consistent throughout all three stages of the comparisons.\n",
    "\n",
    "In the first comparison (\"Assess performance on train and test data\" to get values for train and test r2 score, mae, and confusion matrices), the following was found:\n",
    "The gbc model had slightly better r2 and mae scores than the other two models.  Also, both the train and test confusion matrices was arguably slightly better than the other two.  This is because the gbc and lsvc models were tied for having the least false negatives.  Because this is about predicting diabetes, it is arguably better to have more false positives than false negatives when the greater concern is catching the disease in someone who has it than subjecting a potential false negative candidate to an unnecessary test.  Thus, in the area of confusion matrices, gbc and lsvc could be considered tied for the lead when looking at false negatives.  However, gbc pulls ahead of lsvc because it has less false positives than lsvc.\n",
    "\n",
    "In the second comparison (\"Assessing performance using cross-validation\" to get values for the mean and standard deviation of the ten folds of a cross-validation), the following was found:\n",
    "The gbc model was slightly ahead of the other models with a mean of 0.92 and a standard deviation of 0.06.  The other two both had a mean of 0.91 and a standard deviation of 0.06 for lsvc and 0.07 for lr.\n",
    "\n",
    "In the third comparison (\"Hyperparameter search using GridSearchCV\" to use the GridSearchCV method to do test out a given set of hyperparameters to do a ten-fold cross-validation and find out combination of parameters work:\n",
    "On this test, the gbc model with its best parameters was a clear winner with a mean of 0.97 and a standard deviation of 0.04 across the ten-fold cross-validation.  The other two model mean and standard deviation was similar to their ten-fold cross-validation results with the initial hyperparameter settings - a mean of 0.91 and a standard deviation of 0.06 or 0.07.  The mae results of cross-validation of best hyperparameters for the gbc model were a mean of 0.03 and 0.04 for training data and a mean of 0.03 for the test data.  This was significantly better than the results of either of the other two models.\n",
    "\n",
    "Thus, based on the testing done in this notebook, the gbc model appears to be the clear winner."
   ]
  },
  {
   "cell_type": "markdown",
   "metadata": {},
   "source": [
    "# 16.3.9 Data Quantity Assessment<a id='16.3.9_Data_Quantity_Assessment'></a>"
   ]
  },
  {
   "cell_type": "code",
   "execution_count": 74,
   "metadata": {},
   "outputs": [],
   "source": [
    "fractions = [.2, .25, .3, .35, .4, .45, .5, .6, .75, .8, 1.0]\n",
    "train_size, train_scores, test_scores = learning_curve(kbest_gbc_pipe, X_train, y_train, train_sizes=fractions)\n",
    "train_scores_mean = np.mean(train_scores, axis=1)\n",
    "train_scores_std = np.std(train_scores, axis=1)\n",
    "test_scores_mean = np.mean(test_scores, axis=1)\n",
    "test_scores_std = np.std(test_scores, axis=1)"
   ]
  },
  {
   "cell_type": "code",
   "execution_count": 75,
   "metadata": {},
   "outputs": [
    {
     "data": {
      "image/png": "[encoded data removed]",
      "text/plain": [
       "<Figure size 720x360 with 1 Axes>"
      ]
     },
     "metadata": {
      "needs_background": "light"
     },
     "output_type": "display_data"
    }
   ],
   "source": [
    "plt.subplots(figsize=(10, 5))\n",
    "plt.errorbar(train_size, test_scores_mean, yerr=test_scores_std)\n",
    "plt.xlabel('Training set size')\n",
    "plt.ylabel('CV scores')\n",
    "plt.title('Cross-validation score as training set size increases');"
   ]
  },
  {
   "cell_type": "markdown",
   "metadata": {},
   "source": [
    "The benefits of the training set size seems to level off at about 235 or so but the leveling off is not part of a clearcut pattern that indicates that no larger training set could provide a significant gain.  Thus, further exploration might be desired to see if getting more training data is desirable, if it were a situation where that was possible. "
   ]
  },
  {
   "cell_type": "markdown",
   "metadata": {},
   "source": [
    "# 16.3.10 Save Data<a id='16.3.10_Save_Data'></a>"
   ]
  },
  {
   "cell_type": "code",
   "execution_count": 76,
   "metadata": {},
   "outputs": [],
   "source": [
    "# Save various dataframes created in this notebook as csv files in /data subdirectory\n",
    "datapath = '../data'\n",
    "# Save various models created in this notebook as csv files in /models subdirectory\n",
    "modelpath = '../models'"
   ]
  },
  {
   "cell_type": "code",
   "execution_count": 77,
   "metadata": {},
   "outputs": [
    {
     "name": "stdout",
     "output_type": "stream",
     "text": [
      "A file already exists with this name.\n",
      "\n",
      "Do you want to overwrite? (Y/N)Y\n",
      "Writing file.  \"../models\\capstone_2_diabetes_model.pkl\"\n"
     ]
    }
   ],
   "source": [
    "#This may not be \"production grade ML deployment\" practice, but adding some basic\n",
    "#information to your saved models can save your bacon in development.\n",
    "#Just what version model have you just loaded to reuse? What version of `sklearn`\n",
    "#created it? When did you make it?\n",
    "#Assign the pandas version number (`pd.__version__`) to the `pandas_version` attribute,\n",
    "#the numpy version (`np.__version__`) to the `numpy_version` attribute,\n",
    "#the sklearn version (`sklearn_version`) to the `sklearn_version` attribute,\n",
    "#and the current datetime (`datetime.datetime.now()`) to the `build_datetime` attribute\n",
    "#Let's call this model version '1.0'\n",
    "best_model = gbc_grid_cv.best_estimator_\n",
    "best_model.version = '1.0'\n",
    "best_model.pandas_version = pd.__version__\n",
    "best_model.numpy_version = np.__version__\n",
    "best_model.sklearn_version = sklearn_version\n",
    "best_model.X_columns = [col for col in X_train.columns]\n",
    "best_model.build_datetime = datetime.datetime.now()\n",
    "\n",
    "save_file(best_model, 'capstone_2_diabetes_model.pkl', modelpath)"
   ]
  },
  {
   "cell_type": "markdown",
   "metadata": {},
   "source": [
    "# 16.3.11 Summary<a id='16.3.11_Summary'></a>"
   ]
  },
  {
   "cell_type": "markdown",
   "metadata": {},
   "source": [
    "Since the data for this project is now in all boolean form, creating dummy features and scale standardization are not relevant.\n",
    "Therefore, tests were done using three models to try to pick the best model with the best choice of at least some hyperparameters for that model.  \n",
    "\n",
    "The three models looked at were gradient boosting classifier (gbc), linear svc (lsvc), and logistic regression (lr) based on their known success with boolean data.  The gbc model won out based on various tests (see the \"16.3.8 Final Model Selection\" section to find out details about the test results and the \"Conclusion\" subsection to find out why gbc was chosen).\n",
    "\n",
    "Then, in the \"16.3.9 Data Quantity Assessment\" section, a test was made to determine if better results were likely if there was more data than in the current dataset.  The test, as it was, was not conclusive, but it is possible the amount data is actually sufficient and that further improvement from more data would be marginal at best.\n",
    "\n",
    "Finally, a pickle file was created to save best model and version information."
   ]
  }
 ],
 "metadata": {
  "kernelspec": {
   "display_name": "Python 3",
   "language": "python",
   "name": "python3"
  },
  "language_info": {
   "codemirror_mode": {
    "name": "ipython",
    "version": 3
   },
   "file_extension": ".py",
   "mimetype": "text/x-python",
   "name": "python",
   "nbconvert_exporter": "python",
   "pygments_lexer": "ipython3",
   "version": "3.6.5"
  },
  "toc": {
   "base_numbering": 1,
   "nav_menu": {},
   "number_sections": true,
   "sideBar": true,
   "skip_h1_title": false,
   "title_cell": "Table of Contents",
   "title_sidebar": "Contents",
   "toc_cell": false,
   "toc_position": {},
   "toc_section_display": true,
   "toc_window_display": true
  },
  "varInspector": {
   "cols": {
    "lenName": 16,
    "lenType": 16,
    "lenVar": 40
   },
   "kernels_config": {
    "python": {
     "delete_cmd_postfix": "",
     "delete_cmd_prefix": "del ",
     "library": "var_list.py",
     "varRefreshCmd": "print(var_dic_list())"
    },
    "r": {
     "delete_cmd_postfix": ") ",
     "delete_cmd_prefix": "rm(",
     "library": "var_list.r",
     "varRefreshCmd": "cat(var_dic_list()) "
    }
   },
   "types_to_exclude": [
    "module",
    "function",
    "builtin_function_or_method",
    "instance",
    "_Feature"
   ],
   "window_display": false
  }
 },
 "nbformat": 4,
 "nbformat_minor": 4
}
