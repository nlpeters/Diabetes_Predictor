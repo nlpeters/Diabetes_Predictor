{
 "cells": [
  {
   "cell_type": "markdown",
   "metadata": {},
   "source": [
    "# 7.6 Capstone 2 Data Wrangling<a id='7_6_Capstone_2_Data_Wrangling'></a>"
   ]
  },
  {
   "cell_type": "markdown",
   "metadata": {},
   "source": [
    "  * [7.6.1 Recap Of Data Science Problem](#7.6.1_Recap_Of_Data_Science_Problem)\n",
    "  * [7.6.2 Imports](#7.6.2_Imports)\n",
    "  * [7.6.3 Functions_Created](#7.6.3_Functions_Created)\n",
    "  * [7.6.4 Load The Study Data](#7.6.4_Load_The_Study_Data)\n",
    "  * [7.6.5 Clean Up Dataframe Structure](#7.6.5_Clean_Up_Dataframe_Structure)\n",
    "  * [7.6.6 Add Columns to Dataframe Structure](#7.6.6_Add_Columns_to_Dataframe_Structure)\n",
    "  * [7.6.7 Explore The Data](#7.6.7_Explore_The_Data)\n",
    "  * [7.6.8 Save data](#7.6.8_Save_data)\n",
    "  * [7.6.9 Summary](#7.6.9_Summary)\n"
   ]
  },
  {
   "cell_type": "markdown",
   "metadata": {},
   "source": [
    "## 7.6.1 Recap Of Data Science Problem<a id='7.6.1_Recap_Of_Data_Science_Problem'></a>"
   ]
  },
  {
   "cell_type": "markdown",
   "metadata": {},
   "source": [
    "Goal: Predict likelihood of early stage diabetes based on various symptoms\n",
    "\n",
    "The dataset includes the gender, age and 14 symptoms of a newly diabetic or would-be diabetic patient and whether they tested positive or negative for diabetes.  There are 550 rows of data.  The aim is to build a model to predict whether a subject providing that data would be more likely to test positive or negative for diabetes.\n",
    "(Note from the website source: The dataset was collected using direct questionnaires from the patients of Sylhet Diabetes\n",
    "Hospital in Sylhet, Bangladesh and approved by a doctor).\n",
    "\n",
    "Definitions of some symptoms:\n",
    "polyuria:  production of abnormally large volumes of dilute urine.\n",
    "polydipsia:  abnormally great thirst as a symptom of disease (such as diabetes) or psychological disturbance.\n",
    "polyphagia:  also known as hyperphagia, is the medical term for excessive or extreme hunger. It's different than having an increased appetite after exercise or other physical activity. While your hunger level will return to normal after eating in those cases, polyphagia won't go away if you eat more food.\n",
    "alopecia:  alopecia areata is a condition that causes hair to fall out in small patches, which can be unnoticeable. These patches may connect, however, and then become noticeable. The condition develops when the immune system attacks the hair follicles, resulting in hair loss.\n",
    "partial paresis:  paresis involves the weakening of a muscle or group of muscles. It may also be referred to as partial or mild paralysis. Unlike paralysis, people with paresis can still move their muscles. These movements are just weaker than normal. Paresis occurs when nerves are damaged.\n",
    "\n",
    "The link to the UCI Machine Learning Repository dataset is:\n",
    "https://archive.ics.uci.edu/ml/datasets/Early+stage+diabetes+risk+prediction+dataset.\n",
    "(Note - the period is part of the link).\n",
    "\n",
    "Related citations are:\n",
    "Dua, D. and Graff, C. (2019). UCI Machine Learning Repository [http://archive.ics.uci.edu/ml]. Irvine, CA: University of California, School of Information and Computer Science.\n",
    "Islam, MM Faniqul, et al. 'Likelihood prediction of diabetes at early stage using data mining techniques.' Computer Vision and Machine Intelligence in Medical Image Analysis. Springer, Singapore, 2020. 113-125."
   ]
  },
  {
   "cell_type": "markdown",
   "metadata": {},
   "source": [
    "## 7.6.2 Imports<a id='7.6.2_Imports'></a>"
   ]
  },
  {
   "cell_type": "code",
   "execution_count": 1,
   "metadata": {
    "scrolled": true
   },
   "outputs": [],
   "source": [
    "import numpy as np\n",
    "import pandas as pd\n",
    "import matplotlib.pyplot as plt\n",
    "import seaborn as sns\n",
    "import os\n",
    "\n",
    "from library.sb_utils import save_file"
   ]
  },
  {
   "cell_type": "markdown",
   "metadata": {},
   "source": [
    "## 7.6.3 Functions Created<a id='7.6.3_Functions_Created'></a>"
   ]
  },
  {
   "cell_type": "code",
   "execution_count": 2,
   "metadata": {},
   "outputs": [],
   "source": [
    "# Function that will return column which contains the percentage of each element of given col1 in corresponding \n",
    "# element of col2\n",
    "def col_percentage_of(col1, col2):\n",
    "    return (col1 / col2) * 100"
   ]
  },
  {
   "cell_type": "code",
   "execution_count": 3,
   "metadata": {},
   "outputs": [],
   "source": [
    "# Function that will take a given dataframe df and return the string version of the column name at position of given i\n",
    "def get_symptom_col_str(df, i):\n",
    "    col_str_full = str(df.iloc[[i]].symptom)\n",
    "    start = col_str_full.find('    ') + 4\n",
    "    end = col_str_full.find('\\n', start)\n",
    "    return col_str_full[start:end]"
   ]
  },
  {
   "cell_type": "code",
   "execution_count": 4,
   "metadata": {},
   "outputs": [],
   "source": [
    "# Function that creates a string of 0s and 1s to indicate the values in the given column list in given dataframe df\n",
    "# for given row_num (number of the row in the dataframe)\n",
    "def create_symptoms_as_binary_str(df, column_list, row_num):\n",
    "    binary_list = df[column_list].iloc[row_num,:].apply(str).values\n",
    "    return ''.join(binary_list)"
   ]
  },
  {
   "cell_type": "markdown",
   "metadata": {},
   "source": [
    "## 7.6.4 Load The Study Data<a id='7.6.4_Load_The_Study_Data'></a>"
   ]
  },
  {
   "cell_type": "code",
   "execution_count": 5,
   "metadata": {},
   "outputs": [],
   "source": [
    "# The CSV data file downloaded from UCI is in the raw_data directory\n",
    "df_raw = pd.read_csv('../raw_data/diabetes_data_upload.csv')"
   ]
  },
  {
   "cell_type": "code",
   "execution_count": 6,
   "metadata": {},
   "outputs": [
    {
     "name": "stdout",
     "output_type": "stream",
     "text": [
      "<class 'pandas.core.frame.DataFrame'>\n",
      "RangeIndex: 520 entries, 0 to 519\n",
      "Data columns (total 17 columns):\n",
      " #   Column              Non-Null Count  Dtype \n",
      "---  ------              --------------  ----- \n",
      " 0   Age                 520 non-null    int64 \n",
      " 1   Gender              520 non-null    object\n",
      " 2   Polyuria            520 non-null    object\n",
      " 3   Polydipsia          520 non-null    object\n",
      " 4   sudden weight loss  520 non-null    object\n",
      " 5   weakness            520 non-null    object\n",
      " 6   Polyphagia          520 non-null    object\n",
      " 7   Genital thrush      520 non-null    object\n",
      " 8   visual blurring     520 non-null    object\n",
      " 9   Itching             520 non-null    object\n",
      " 10  Irritability        520 non-null    object\n",
      " 11  delayed healing     520 non-null    object\n",
      " 12  partial paresis     520 non-null    object\n",
      " 13  muscle stiffness    520 non-null    object\n",
      " 14  Alopecia            520 non-null    object\n",
      " 15  Obesity             520 non-null    object\n",
      " 16  class               520 non-null    object\n",
      "dtypes: int64(1), object(16)\n",
      "memory usage: 69.2+ KB\n"
     ]
    }
   ],
   "source": [
    "# Get basic info about data\n",
    "df_raw.info()"
   ]
  },
  {
   "cell_type": "code",
   "execution_count": 7,
   "metadata": {
    "scrolled": true
   },
   "outputs": [
    {
     "data": {
      "text/html": [
       "<div>\n",
       "<style scoped>\n",
       "    .dataframe tbody tr th:only-of-type {\n",
       "        vertical-align: middle;\n",
       "    }\n",
       "\n",
       "    .dataframe tbody tr th {\n",
       "        vertical-align: top;\n",
       "    }\n",
       "\n",
       "    .dataframe thead th {\n",
       "        text-align: right;\n",
       "    }\n",
       "</style>\n",
       "<table border=\"1\" class=\"dataframe\">\n",
       "  <thead>\n",
       "    <tr style=\"text-align: right;\">\n",
       "      <th></th>\n",
       "      <th>Age</th>\n",
       "      <th>Gender</th>\n",
       "      <th>Polyuria</th>\n",
       "      <th>Polydipsia</th>\n",
       "      <th>sudden weight loss</th>\n",
       "      <th>weakness</th>\n",
       "      <th>Polyphagia</th>\n",
       "      <th>Genital thrush</th>\n",
       "      <th>visual blurring</th>\n",
       "      <th>Itching</th>\n",
       "      <th>Irritability</th>\n",
       "      <th>delayed healing</th>\n",
       "      <th>partial paresis</th>\n",
       "      <th>muscle stiffness</th>\n",
       "      <th>Alopecia</th>\n",
       "      <th>Obesity</th>\n",
       "      <th>class</th>\n",
       "    </tr>\n",
       "  </thead>\n",
       "  <tbody>\n",
       "    <tr>\n",
       "      <th>0</th>\n",
       "      <td>40</td>\n",
       "      <td>Male</td>\n",
       "      <td>No</td>\n",
       "      <td>Yes</td>\n",
       "      <td>No</td>\n",
       "      <td>Yes</td>\n",
       "      <td>No</td>\n",
       "      <td>No</td>\n",
       "      <td>No</td>\n",
       "      <td>Yes</td>\n",
       "      <td>No</td>\n",
       "      <td>Yes</td>\n",
       "      <td>No</td>\n",
       "      <td>Yes</td>\n",
       "      <td>Yes</td>\n",
       "      <td>Yes</td>\n",
       "      <td>Positive</td>\n",
       "    </tr>\n",
       "    <tr>\n",
       "      <th>1</th>\n",
       "      <td>58</td>\n",
       "      <td>Male</td>\n",
       "      <td>No</td>\n",
       "      <td>No</td>\n",
       "      <td>No</td>\n",
       "      <td>Yes</td>\n",
       "      <td>No</td>\n",
       "      <td>No</td>\n",
       "      <td>Yes</td>\n",
       "      <td>No</td>\n",
       "      <td>No</td>\n",
       "      <td>No</td>\n",
       "      <td>Yes</td>\n",
       "      <td>No</td>\n",
       "      <td>Yes</td>\n",
       "      <td>No</td>\n",
       "      <td>Positive</td>\n",
       "    </tr>\n",
       "    <tr>\n",
       "      <th>2</th>\n",
       "      <td>41</td>\n",
       "      <td>Male</td>\n",
       "      <td>Yes</td>\n",
       "      <td>No</td>\n",
       "      <td>No</td>\n",
       "      <td>Yes</td>\n",
       "      <td>Yes</td>\n",
       "      <td>No</td>\n",
       "      <td>No</td>\n",
       "      <td>Yes</td>\n",
       "      <td>No</td>\n",
       "      <td>Yes</td>\n",
       "      <td>No</td>\n",
       "      <td>Yes</td>\n",
       "      <td>Yes</td>\n",
       "      <td>No</td>\n",
       "      <td>Positive</td>\n",
       "    </tr>\n",
       "    <tr>\n",
       "      <th>3</th>\n",
       "      <td>45</td>\n",
       "      <td>Male</td>\n",
       "      <td>No</td>\n",
       "      <td>No</td>\n",
       "      <td>Yes</td>\n",
       "      <td>Yes</td>\n",
       "      <td>Yes</td>\n",
       "      <td>Yes</td>\n",
       "      <td>No</td>\n",
       "      <td>Yes</td>\n",
       "      <td>No</td>\n",
       "      <td>Yes</td>\n",
       "      <td>No</td>\n",
       "      <td>No</td>\n",
       "      <td>No</td>\n",
       "      <td>No</td>\n",
       "      <td>Positive</td>\n",
       "    </tr>\n",
       "    <tr>\n",
       "      <th>4</th>\n",
       "      <td>60</td>\n",
       "      <td>Male</td>\n",
       "      <td>Yes</td>\n",
       "      <td>Yes</td>\n",
       "      <td>Yes</td>\n",
       "      <td>Yes</td>\n",
       "      <td>Yes</td>\n",
       "      <td>No</td>\n",
       "      <td>Yes</td>\n",
       "      <td>Yes</td>\n",
       "      <td>Yes</td>\n",
       "      <td>Yes</td>\n",
       "      <td>Yes</td>\n",
       "      <td>Yes</td>\n",
       "      <td>Yes</td>\n",
       "      <td>Yes</td>\n",
       "      <td>Positive</td>\n",
       "    </tr>\n",
       "  </tbody>\n",
       "</table>\n",
       "</div>"
      ],
      "text/plain": [
       "   Age Gender Polyuria Polydipsia sudden weight loss weakness Polyphagia  \\\n",
       "0   40   Male       No        Yes                 No      Yes         No   \n",
       "1   58   Male       No         No                 No      Yes         No   \n",
       "2   41   Male      Yes         No                 No      Yes        Yes   \n",
       "3   45   Male       No         No                Yes      Yes        Yes   \n",
       "4   60   Male      Yes        Yes                Yes      Yes        Yes   \n",
       "\n",
       "  Genital thrush visual blurring Itching Irritability delayed healing  \\\n",
       "0             No              No     Yes           No             Yes   \n",
       "1             No             Yes      No           No              No   \n",
       "2             No              No     Yes           No             Yes   \n",
       "3            Yes              No     Yes           No             Yes   \n",
       "4             No             Yes     Yes          Yes             Yes   \n",
       "\n",
       "  partial paresis muscle stiffness Alopecia Obesity     class  \n",
       "0              No              Yes      Yes     Yes  Positive  \n",
       "1             Yes               No      Yes      No  Positive  \n",
       "2              No              Yes      Yes      No  Positive  \n",
       "3              No               No       No      No  Positive  \n",
       "4             Yes              Yes      Yes     Yes  Positive  "
      ]
     },
     "execution_count": 7,
     "metadata": {},
     "output_type": "execute_result"
    }
   ],
   "source": [
    "# Examine some data\n",
    "df_raw.head()"
   ]
  },
  {
   "cell_type": "markdown",
   "metadata": {},
   "source": [
    "## 7.6.5 Clean Up Dataframe Structure<a id='7.6.5_Clean_Up_Dataframe_Structure'></a>"
   ]
  },
  {
   "cell_type": "code",
   "execution_count": 8,
   "metadata": {},
   "outputs": [],
   "source": [
    "# Get rid of spaces in column names to avoid trouble in making column references later\n",
    "df = df_raw.copy()\n",
    "df.columns = df.columns.str.replace(' ','_')\n",
    "# Make column names uniform by setting to all lowercase\n",
    "df.rename(str.lower, axis='columns', inplace=True)"
   ]
  },
  {
   "cell_type": "code",
   "execution_count": 9,
   "metadata": {},
   "outputs": [
    {
     "data": {
      "text/html": [
       "<div>\n",
       "<style scoped>\n",
       "    .dataframe tbody tr th:only-of-type {\n",
       "        vertical-align: middle;\n",
       "    }\n",
       "\n",
       "    .dataframe tbody tr th {\n",
       "        vertical-align: top;\n",
       "    }\n",
       "\n",
       "    .dataframe thead th {\n",
       "        text-align: right;\n",
       "    }\n",
       "</style>\n",
       "<table border=\"1\" class=\"dataframe\">\n",
       "  <thead>\n",
       "    <tr style=\"text-align: right;\">\n",
       "      <th></th>\n",
       "      <th>age</th>\n",
       "      <th>gender</th>\n",
       "      <th>polyuria</th>\n",
       "      <th>polydipsia</th>\n",
       "      <th>sudden_weight_loss</th>\n",
       "      <th>weakness</th>\n",
       "      <th>polyphagia</th>\n",
       "      <th>genital_thrush</th>\n",
       "      <th>visual_blurring</th>\n",
       "      <th>itching</th>\n",
       "      <th>irritability</th>\n",
       "      <th>delayed_healing</th>\n",
       "      <th>partial_paresis</th>\n",
       "      <th>muscle_stiffness</th>\n",
       "      <th>alopecia</th>\n",
       "      <th>obesity</th>\n",
       "      <th>class</th>\n",
       "    </tr>\n",
       "  </thead>\n",
       "  <tbody>\n",
       "    <tr>\n",
       "      <th>0</th>\n",
       "      <td>40</td>\n",
       "      <td>Male</td>\n",
       "      <td>No</td>\n",
       "      <td>Yes</td>\n",
       "      <td>No</td>\n",
       "      <td>Yes</td>\n",
       "      <td>No</td>\n",
       "      <td>No</td>\n",
       "      <td>No</td>\n",
       "      <td>Yes</td>\n",
       "      <td>No</td>\n",
       "      <td>Yes</td>\n",
       "      <td>No</td>\n",
       "      <td>Yes</td>\n",
       "      <td>Yes</td>\n",
       "      <td>Yes</td>\n",
       "      <td>Positive</td>\n",
       "    </tr>\n",
       "    <tr>\n",
       "      <th>1</th>\n",
       "      <td>58</td>\n",
       "      <td>Male</td>\n",
       "      <td>No</td>\n",
       "      <td>No</td>\n",
       "      <td>No</td>\n",
       "      <td>Yes</td>\n",
       "      <td>No</td>\n",
       "      <td>No</td>\n",
       "      <td>Yes</td>\n",
       "      <td>No</td>\n",
       "      <td>No</td>\n",
       "      <td>No</td>\n",
       "      <td>Yes</td>\n",
       "      <td>No</td>\n",
       "      <td>Yes</td>\n",
       "      <td>No</td>\n",
       "      <td>Positive</td>\n",
       "    </tr>\n",
       "    <tr>\n",
       "      <th>2</th>\n",
       "      <td>41</td>\n",
       "      <td>Male</td>\n",
       "      <td>Yes</td>\n",
       "      <td>No</td>\n",
       "      <td>No</td>\n",
       "      <td>Yes</td>\n",
       "      <td>Yes</td>\n",
       "      <td>No</td>\n",
       "      <td>No</td>\n",
       "      <td>Yes</td>\n",
       "      <td>No</td>\n",
       "      <td>Yes</td>\n",
       "      <td>No</td>\n",
       "      <td>Yes</td>\n",
       "      <td>Yes</td>\n",
       "      <td>No</td>\n",
       "      <td>Positive</td>\n",
       "    </tr>\n",
       "    <tr>\n",
       "      <th>3</th>\n",
       "      <td>45</td>\n",
       "      <td>Male</td>\n",
       "      <td>No</td>\n",
       "      <td>No</td>\n",
       "      <td>Yes</td>\n",
       "      <td>Yes</td>\n",
       "      <td>Yes</td>\n",
       "      <td>Yes</td>\n",
       "      <td>No</td>\n",
       "      <td>Yes</td>\n",
       "      <td>No</td>\n",
       "      <td>Yes</td>\n",
       "      <td>No</td>\n",
       "      <td>No</td>\n",
       "      <td>No</td>\n",
       "      <td>No</td>\n",
       "      <td>Positive</td>\n",
       "    </tr>\n",
       "    <tr>\n",
       "      <th>4</th>\n",
       "      <td>60</td>\n",
       "      <td>Male</td>\n",
       "      <td>Yes</td>\n",
       "      <td>Yes</td>\n",
       "      <td>Yes</td>\n",
       "      <td>Yes</td>\n",
       "      <td>Yes</td>\n",
       "      <td>No</td>\n",
       "      <td>Yes</td>\n",
       "      <td>Yes</td>\n",
       "      <td>Yes</td>\n",
       "      <td>Yes</td>\n",
       "      <td>Yes</td>\n",
       "      <td>Yes</td>\n",
       "      <td>Yes</td>\n",
       "      <td>Yes</td>\n",
       "      <td>Positive</td>\n",
       "    </tr>\n",
       "  </tbody>\n",
       "</table>\n",
       "</div>"
      ],
      "text/plain": [
       "   age gender polyuria polydipsia sudden_weight_loss weakness polyphagia  \\\n",
       "0   40   Male       No        Yes                 No      Yes         No   \n",
       "1   58   Male       No         No                 No      Yes         No   \n",
       "2   41   Male      Yes         No                 No      Yes        Yes   \n",
       "3   45   Male       No         No                Yes      Yes        Yes   \n",
       "4   60   Male      Yes        Yes                Yes      Yes        Yes   \n",
       "\n",
       "  genital_thrush visual_blurring itching irritability delayed_healing  \\\n",
       "0             No              No     Yes           No             Yes   \n",
       "1             No             Yes      No           No              No   \n",
       "2             No              No     Yes           No             Yes   \n",
       "3            Yes              No     Yes           No             Yes   \n",
       "4             No             Yes     Yes          Yes             Yes   \n",
       "\n",
       "  partial_paresis muscle_stiffness alopecia obesity     class  \n",
       "0              No              Yes      Yes     Yes  Positive  \n",
       "1             Yes               No      Yes      No  Positive  \n",
       "2              No              Yes      Yes      No  Positive  \n",
       "3              No               No       No      No  Positive  \n",
       "4             Yes              Yes      Yes     Yes  Positive  "
      ]
     },
     "execution_count": 9,
     "metadata": {},
     "output_type": "execute_result"
    }
   ],
   "source": [
    "df.head()"
   ]
  },
  {
   "cell_type": "code",
   "execution_count": 10,
   "metadata": {},
   "outputs": [],
   "source": [
    "# Since most of the data contains 'Yes'/'No' values, transform 'gender' column to 'is_male' with 'Yes'/'No' values\n",
    "df.gender = df.gender.str.replace('Male','Yes')\n",
    "df.gender = df.gender.str.replace('Female','No')\n",
    "df.rename({'gender': 'is_male'}, axis='columns', inplace=True)"
   ]
  },
  {
   "cell_type": "code",
   "execution_count": 11,
   "metadata": {},
   "outputs": [],
   "source": [
    "# Since most of the data contains 'Yes'/'No' values, transform 'column' column to 'diabetes_found' with 'Yes'/'No' values\n",
    "df.rename({'class': 'diabetes_found'}, axis='columns', inplace=True)\n",
    "df.diabetes_found = df.diabetes_found.str.replace('Positive','Yes')\n",
    "df.diabetes_found = df.diabetes_found.str.replace('Negative','No')"
   ]
  },
  {
   "cell_type": "code",
   "execution_count": 12,
   "metadata": {},
   "outputs": [
    {
     "data": {
      "text/plain": [
       "False"
      ]
     },
     "execution_count": 12,
     "metadata": {},
     "output_type": "execute_result"
    }
   ],
   "source": [
    "# Make sure there are no missing values - since False returned, there are not\n",
    "df.isna().any(axis=None)"
   ]
  },
  {
   "cell_type": "code",
   "execution_count": 13,
   "metadata": {
    "scrolled": true
   },
   "outputs": [
    {
     "data": {
      "text/html": [
       "<div>\n",
       "<style scoped>\n",
       "    .dataframe tbody tr th:only-of-type {\n",
       "        vertical-align: middle;\n",
       "    }\n",
       "\n",
       "    .dataframe tbody tr th {\n",
       "        vertical-align: top;\n",
       "    }\n",
       "\n",
       "    .dataframe thead th {\n",
       "        text-align: right;\n",
       "    }\n",
       "</style>\n",
       "<table border=\"1\" class=\"dataframe\">\n",
       "  <thead>\n",
       "    <tr style=\"text-align: right;\">\n",
       "      <th></th>\n",
       "      <th>age</th>\n",
       "      <th>is_male</th>\n",
       "      <th>polyuria</th>\n",
       "      <th>polydipsia</th>\n",
       "      <th>sudden_weight_loss</th>\n",
       "      <th>weakness</th>\n",
       "      <th>polyphagia</th>\n",
       "      <th>genital_thrush</th>\n",
       "      <th>visual_blurring</th>\n",
       "      <th>itching</th>\n",
       "      <th>irritability</th>\n",
       "      <th>delayed_healing</th>\n",
       "      <th>partial_paresis</th>\n",
       "      <th>muscle_stiffness</th>\n",
       "      <th>alopecia</th>\n",
       "      <th>obesity</th>\n",
       "      <th>diabetes_found</th>\n",
       "    </tr>\n",
       "  </thead>\n",
       "  <tbody>\n",
       "    <tr>\n",
       "      <th>0</th>\n",
       "      <td>40</td>\n",
       "      <td>Yes</td>\n",
       "      <td>No</td>\n",
       "      <td>Yes</td>\n",
       "      <td>No</td>\n",
       "      <td>Yes</td>\n",
       "      <td>No</td>\n",
       "      <td>No</td>\n",
       "      <td>No</td>\n",
       "      <td>Yes</td>\n",
       "      <td>No</td>\n",
       "      <td>Yes</td>\n",
       "      <td>No</td>\n",
       "      <td>Yes</td>\n",
       "      <td>Yes</td>\n",
       "      <td>Yes</td>\n",
       "      <td>Yes</td>\n",
       "    </tr>\n",
       "    <tr>\n",
       "      <th>1</th>\n",
       "      <td>58</td>\n",
       "      <td>Yes</td>\n",
       "      <td>No</td>\n",
       "      <td>No</td>\n",
       "      <td>No</td>\n",
       "      <td>Yes</td>\n",
       "      <td>No</td>\n",
       "      <td>No</td>\n",
       "      <td>Yes</td>\n",
       "      <td>No</td>\n",
       "      <td>No</td>\n",
       "      <td>No</td>\n",
       "      <td>Yes</td>\n",
       "      <td>No</td>\n",
       "      <td>Yes</td>\n",
       "      <td>No</td>\n",
       "      <td>Yes</td>\n",
       "    </tr>\n",
       "    <tr>\n",
       "      <th>2</th>\n",
       "      <td>41</td>\n",
       "      <td>Yes</td>\n",
       "      <td>Yes</td>\n",
       "      <td>No</td>\n",
       "      <td>No</td>\n",
       "      <td>Yes</td>\n",
       "      <td>Yes</td>\n",
       "      <td>No</td>\n",
       "      <td>No</td>\n",
       "      <td>Yes</td>\n",
       "      <td>No</td>\n",
       "      <td>Yes</td>\n",
       "      <td>No</td>\n",
       "      <td>Yes</td>\n",
       "      <td>Yes</td>\n",
       "      <td>No</td>\n",
       "      <td>Yes</td>\n",
       "    </tr>\n",
       "    <tr>\n",
       "      <th>3</th>\n",
       "      <td>45</td>\n",
       "      <td>Yes</td>\n",
       "      <td>No</td>\n",
       "      <td>No</td>\n",
       "      <td>Yes</td>\n",
       "      <td>Yes</td>\n",
       "      <td>Yes</td>\n",
       "      <td>Yes</td>\n",
       "      <td>No</td>\n",
       "      <td>Yes</td>\n",
       "      <td>No</td>\n",
       "      <td>Yes</td>\n",
       "      <td>No</td>\n",
       "      <td>No</td>\n",
       "      <td>No</td>\n",
       "      <td>No</td>\n",
       "      <td>Yes</td>\n",
       "    </tr>\n",
       "    <tr>\n",
       "      <th>4</th>\n",
       "      <td>60</td>\n",
       "      <td>Yes</td>\n",
       "      <td>Yes</td>\n",
       "      <td>Yes</td>\n",
       "      <td>Yes</td>\n",
       "      <td>Yes</td>\n",
       "      <td>Yes</td>\n",
       "      <td>No</td>\n",
       "      <td>Yes</td>\n",
       "      <td>Yes</td>\n",
       "      <td>Yes</td>\n",
       "      <td>Yes</td>\n",
       "      <td>Yes</td>\n",
       "      <td>Yes</td>\n",
       "      <td>Yes</td>\n",
       "      <td>Yes</td>\n",
       "      <td>Yes</td>\n",
       "    </tr>\n",
       "  </tbody>\n",
       "</table>\n",
       "</div>"
      ],
      "text/plain": [
       "   age is_male polyuria polydipsia sudden_weight_loss weakness polyphagia  \\\n",
       "0   40     Yes       No        Yes                 No      Yes         No   \n",
       "1   58     Yes       No         No                 No      Yes         No   \n",
       "2   41     Yes      Yes         No                 No      Yes        Yes   \n",
       "3   45     Yes       No         No                Yes      Yes        Yes   \n",
       "4   60     Yes      Yes        Yes                Yes      Yes        Yes   \n",
       "\n",
       "  genital_thrush visual_blurring itching irritability delayed_healing  \\\n",
       "0             No              No     Yes           No             Yes   \n",
       "1             No             Yes      No           No              No   \n",
       "2             No              No     Yes           No             Yes   \n",
       "3            Yes              No     Yes           No             Yes   \n",
       "4             No             Yes     Yes          Yes             Yes   \n",
       "\n",
       "  partial_paresis muscle_stiffness alopecia obesity diabetes_found  \n",
       "0              No              Yes      Yes     Yes            Yes  \n",
       "1             Yes               No      Yes      No            Yes  \n",
       "2              No              Yes      Yes      No            Yes  \n",
       "3              No               No       No      No            Yes  \n",
       "4             Yes              Yes      Yes     Yes            Yes  "
      ]
     },
     "execution_count": 13,
     "metadata": {},
     "output_type": "execute_result"
    }
   ],
   "source": [
    "df.head()"
   ]
  },
  {
   "cell_type": "markdown",
   "metadata": {},
   "source": [
    "## 7.6.6 Add Columns to Dataframe Structure<a id='7.6.6_Add_Columns_to_Dataframe_Structure'></a>"
   ]
  },
  {
   "cell_type": "code",
   "execution_count": 14,
   "metadata": {},
   "outputs": [
    {
     "data": {
      "text/plain": [
       "count    520.000000\n",
       "mean      48.028846\n",
       "std       12.151466\n",
       "min       16.000000\n",
       "25%       39.000000\n",
       "50%       47.500000\n",
       "75%       57.000000\n",
       "max       90.000000\n",
       "Name: age, dtype: float64"
      ]
     },
     "execution_count": 14,
     "metadata": {},
     "output_type": "execute_result"
    }
   ],
   "source": [
    "# Look at stats for 'age' (the one numeric column)\n",
    "df.age.describe()"
   ]
  },
  {
   "cell_type": "code",
   "execution_count": 15,
   "metadata": {},
   "outputs": [
    {
     "data": {
      "text/html": [
       "<div>\n",
       "<style scoped>\n",
       "    .dataframe tbody tr th:only-of-type {\n",
       "        vertical-align: middle;\n",
       "    }\n",
       "\n",
       "    .dataframe tbody tr th {\n",
       "        vertical-align: top;\n",
       "    }\n",
       "\n",
       "    .dataframe thead th {\n",
       "        text-align: right;\n",
       "    }\n",
       "</style>\n",
       "<table border=\"1\" class=\"dataframe\">\n",
       "  <thead>\n",
       "    <tr style=\"text-align: right;\">\n",
       "      <th></th>\n",
       "      <th>age</th>\n",
       "      <th>is_male</th>\n",
       "      <th>polyuria</th>\n",
       "      <th>polydipsia</th>\n",
       "      <th>sudden_weight_loss</th>\n",
       "      <th>weakness</th>\n",
       "      <th>polyphagia</th>\n",
       "      <th>genital_thrush</th>\n",
       "      <th>visual_blurring</th>\n",
       "      <th>itching</th>\n",
       "      <th>irritability</th>\n",
       "      <th>delayed_healing</th>\n",
       "      <th>partial_paresis</th>\n",
       "      <th>muscle_stiffness</th>\n",
       "      <th>alopecia</th>\n",
       "      <th>obesity</th>\n",
       "      <th>diabetes_found</th>\n",
       "      <th>age_qcut_4</th>\n",
       "      <th>age_qcut_10</th>\n",
       "    </tr>\n",
       "  </thead>\n",
       "  <tbody>\n",
       "    <tr>\n",
       "      <th>0</th>\n",
       "      <td>40</td>\n",
       "      <td>Yes</td>\n",
       "      <td>No</td>\n",
       "      <td>Yes</td>\n",
       "      <td>No</td>\n",
       "      <td>Yes</td>\n",
       "      <td>No</td>\n",
       "      <td>No</td>\n",
       "      <td>No</td>\n",
       "      <td>Yes</td>\n",
       "      <td>No</td>\n",
       "      <td>Yes</td>\n",
       "      <td>No</td>\n",
       "      <td>Yes</td>\n",
       "      <td>Yes</td>\n",
       "      <td>Yes</td>\n",
       "      <td>Yes</td>\n",
       "      <td>(39.0, 47.5]</td>\n",
       "      <td>(37.0, 40.0]</td>\n",
       "    </tr>\n",
       "    <tr>\n",
       "      <th>1</th>\n",
       "      <td>58</td>\n",
       "      <td>Yes</td>\n",
       "      <td>No</td>\n",
       "      <td>No</td>\n",
       "      <td>No</td>\n",
       "      <td>Yes</td>\n",
       "      <td>No</td>\n",
       "      <td>No</td>\n",
       "      <td>Yes</td>\n",
       "      <td>No</td>\n",
       "      <td>No</td>\n",
       "      <td>No</td>\n",
       "      <td>Yes</td>\n",
       "      <td>No</td>\n",
       "      <td>Yes</td>\n",
       "      <td>No</td>\n",
       "      <td>Yes</td>\n",
       "      <td>(57.0, 90.0]</td>\n",
       "      <td>(55.0, 58.0]</td>\n",
       "    </tr>\n",
       "    <tr>\n",
       "      <th>2</th>\n",
       "      <td>41</td>\n",
       "      <td>Yes</td>\n",
       "      <td>Yes</td>\n",
       "      <td>No</td>\n",
       "      <td>No</td>\n",
       "      <td>Yes</td>\n",
       "      <td>Yes</td>\n",
       "      <td>No</td>\n",
       "      <td>No</td>\n",
       "      <td>Yes</td>\n",
       "      <td>No</td>\n",
       "      <td>Yes</td>\n",
       "      <td>No</td>\n",
       "      <td>Yes</td>\n",
       "      <td>Yes</td>\n",
       "      <td>No</td>\n",
       "      <td>Yes</td>\n",
       "      <td>(39.0, 47.5]</td>\n",
       "      <td>(40.0, 44.0]</td>\n",
       "    </tr>\n",
       "    <tr>\n",
       "      <th>3</th>\n",
       "      <td>45</td>\n",
       "      <td>Yes</td>\n",
       "      <td>No</td>\n",
       "      <td>No</td>\n",
       "      <td>Yes</td>\n",
       "      <td>Yes</td>\n",
       "      <td>Yes</td>\n",
       "      <td>Yes</td>\n",
       "      <td>No</td>\n",
       "      <td>Yes</td>\n",
       "      <td>No</td>\n",
       "      <td>Yes</td>\n",
       "      <td>No</td>\n",
       "      <td>No</td>\n",
       "      <td>No</td>\n",
       "      <td>No</td>\n",
       "      <td>Yes</td>\n",
       "      <td>(39.0, 47.5]</td>\n",
       "      <td>(44.0, 48.0]</td>\n",
       "    </tr>\n",
       "    <tr>\n",
       "      <th>4</th>\n",
       "      <td>60</td>\n",
       "      <td>Yes</td>\n",
       "      <td>Yes</td>\n",
       "      <td>Yes</td>\n",
       "      <td>Yes</td>\n",
       "      <td>Yes</td>\n",
       "      <td>Yes</td>\n",
       "      <td>No</td>\n",
       "      <td>Yes</td>\n",
       "      <td>Yes</td>\n",
       "      <td>Yes</td>\n",
       "      <td>Yes</td>\n",
       "      <td>Yes</td>\n",
       "      <td>Yes</td>\n",
       "      <td>Yes</td>\n",
       "      <td>Yes</td>\n",
       "      <td>Yes</td>\n",
       "      <td>(57.0, 90.0]</td>\n",
       "      <td>(58.0, 65.0]</td>\n",
       "    </tr>\n",
       "  </tbody>\n",
       "</table>\n",
       "</div>"
      ],
      "text/plain": [
       "   age is_male polyuria polydipsia sudden_weight_loss weakness polyphagia  \\\n",
       "0   40     Yes       No        Yes                 No      Yes         No   \n",
       "1   58     Yes       No         No                 No      Yes         No   \n",
       "2   41     Yes      Yes         No                 No      Yes        Yes   \n",
       "3   45     Yes       No         No                Yes      Yes        Yes   \n",
       "4   60     Yes      Yes        Yes                Yes      Yes        Yes   \n",
       "\n",
       "  genital_thrush visual_blurring itching irritability delayed_healing  \\\n",
       "0             No              No     Yes           No             Yes   \n",
       "1             No             Yes      No           No              No   \n",
       "2             No              No     Yes           No             Yes   \n",
       "3            Yes              No     Yes           No             Yes   \n",
       "4             No             Yes     Yes          Yes             Yes   \n",
       "\n",
       "  partial_paresis muscle_stiffness alopecia obesity diabetes_found  \\\n",
       "0              No              Yes      Yes     Yes            Yes   \n",
       "1             Yes               No      Yes      No            Yes   \n",
       "2              No              Yes      Yes      No            Yes   \n",
       "3              No               No       No      No            Yes   \n",
       "4             Yes              Yes      Yes     Yes            Yes   \n",
       "\n",
       "     age_qcut_4   age_qcut_10  \n",
       "0  (39.0, 47.5]  (37.0, 40.0]  \n",
       "1  (57.0, 90.0]  (55.0, 58.0]  \n",
       "2  (39.0, 47.5]  (40.0, 44.0]  \n",
       "3  (39.0, 47.5]  (44.0, 48.0]  \n",
       "4  (57.0, 90.0]  (58.0, 65.0]  "
      ]
     },
     "execution_count": 15,
     "metadata": {},
     "output_type": "execute_result"
    }
   ],
   "source": [
    "# Create two new columns with age in categories, one with 4 categories, one with 10\n",
    "df['age_qcut_4'] = pd.qcut(df['age'], q=4)\n",
    "df['age_qcut_10'] = pd.qcut(df['age'], q=10, precision=0)\n",
    "df.head()"
   ]
  },
  {
   "cell_type": "code",
   "execution_count": 16,
   "metadata": {},
   "outputs": [
    {
     "data": {
      "text/html": [
       "<div>\n",
       "<style scoped>\n",
       "    .dataframe tbody tr th:only-of-type {\n",
       "        vertical-align: middle;\n",
       "    }\n",
       "\n",
       "    .dataframe tbody tr th {\n",
       "        vertical-align: top;\n",
       "    }\n",
       "\n",
       "    .dataframe thead th {\n",
       "        text-align: right;\n",
       "    }\n",
       "</style>\n",
       "<table border=\"1\" class=\"dataframe\">\n",
       "  <thead>\n",
       "    <tr style=\"text-align: right;\">\n",
       "      <th></th>\n",
       "      <th>age</th>\n",
       "      <th>is_male</th>\n",
       "      <th>polyuria</th>\n",
       "      <th>polydipsia</th>\n",
       "      <th>sudden_weight_loss</th>\n",
       "      <th>weakness</th>\n",
       "      <th>polyphagia</th>\n",
       "      <th>genital_thrush</th>\n",
       "      <th>visual_blurring</th>\n",
       "      <th>itching</th>\n",
       "      <th>irritability</th>\n",
       "      <th>delayed_healing</th>\n",
       "      <th>partial_paresis</th>\n",
       "      <th>muscle_stiffness</th>\n",
       "      <th>alopecia</th>\n",
       "      <th>obesity</th>\n",
       "      <th>diabetes_found</th>\n",
       "      <th>age_qcut_4</th>\n",
       "      <th>age_qcut_10</th>\n",
       "    </tr>\n",
       "  </thead>\n",
       "  <tbody>\n",
       "    <tr>\n",
       "      <th>0</th>\n",
       "      <td>40</td>\n",
       "      <td>1</td>\n",
       "      <td>0</td>\n",
       "      <td>1</td>\n",
       "      <td>0</td>\n",
       "      <td>1</td>\n",
       "      <td>0</td>\n",
       "      <td>0</td>\n",
       "      <td>0</td>\n",
       "      <td>1</td>\n",
       "      <td>0</td>\n",
       "      <td>1</td>\n",
       "      <td>0</td>\n",
       "      <td>1</td>\n",
       "      <td>1</td>\n",
       "      <td>1</td>\n",
       "      <td>1</td>\n",
       "      <td>(39.0, 47.5]</td>\n",
       "      <td>(37.0, 40.0]</td>\n",
       "    </tr>\n",
       "    <tr>\n",
       "      <th>1</th>\n",
       "      <td>58</td>\n",
       "      <td>1</td>\n",
       "      <td>0</td>\n",
       "      <td>0</td>\n",
       "      <td>0</td>\n",
       "      <td>1</td>\n",
       "      <td>0</td>\n",
       "      <td>0</td>\n",
       "      <td>1</td>\n",
       "      <td>0</td>\n",
       "      <td>0</td>\n",
       "      <td>0</td>\n",
       "      <td>1</td>\n",
       "      <td>0</td>\n",
       "      <td>1</td>\n",
       "      <td>0</td>\n",
       "      <td>1</td>\n",
       "      <td>(57.0, 90.0]</td>\n",
       "      <td>(55.0, 58.0]</td>\n",
       "    </tr>\n",
       "    <tr>\n",
       "      <th>2</th>\n",
       "      <td>41</td>\n",
       "      <td>1</td>\n",
       "      <td>1</td>\n",
       "      <td>0</td>\n",
       "      <td>0</td>\n",
       "      <td>1</td>\n",
       "      <td>1</td>\n",
       "      <td>0</td>\n",
       "      <td>0</td>\n",
       "      <td>1</td>\n",
       "      <td>0</td>\n",
       "      <td>1</td>\n",
       "      <td>0</td>\n",
       "      <td>1</td>\n",
       "      <td>1</td>\n",
       "      <td>0</td>\n",
       "      <td>1</td>\n",
       "      <td>(39.0, 47.5]</td>\n",
       "      <td>(40.0, 44.0]</td>\n",
       "    </tr>\n",
       "    <tr>\n",
       "      <th>3</th>\n",
       "      <td>45</td>\n",
       "      <td>1</td>\n",
       "      <td>0</td>\n",
       "      <td>0</td>\n",
       "      <td>1</td>\n",
       "      <td>1</td>\n",
       "      <td>1</td>\n",
       "      <td>1</td>\n",
       "      <td>0</td>\n",
       "      <td>1</td>\n",
       "      <td>0</td>\n",
       "      <td>1</td>\n",
       "      <td>0</td>\n",
       "      <td>0</td>\n",
       "      <td>0</td>\n",
       "      <td>0</td>\n",
       "      <td>1</td>\n",
       "      <td>(39.0, 47.5]</td>\n",
       "      <td>(44.0, 48.0]</td>\n",
       "    </tr>\n",
       "    <tr>\n",
       "      <th>4</th>\n",
       "      <td>60</td>\n",
       "      <td>1</td>\n",
       "      <td>1</td>\n",
       "      <td>1</td>\n",
       "      <td>1</td>\n",
       "      <td>1</td>\n",
       "      <td>1</td>\n",
       "      <td>0</td>\n",
       "      <td>1</td>\n",
       "      <td>1</td>\n",
       "      <td>1</td>\n",
       "      <td>1</td>\n",
       "      <td>1</td>\n",
       "      <td>1</td>\n",
       "      <td>1</td>\n",
       "      <td>1</td>\n",
       "      <td>1</td>\n",
       "      <td>(57.0, 90.0]</td>\n",
       "      <td>(58.0, 65.0]</td>\n",
       "    </tr>\n",
       "  </tbody>\n",
       "</table>\n",
       "</div>"
      ],
      "text/plain": [
       "   age  is_male  polyuria  polydipsia  sudden_weight_loss  weakness  \\\n",
       "0   40        1         0           1                   0         1   \n",
       "1   58        1         0           0                   0         1   \n",
       "2   41        1         1           0                   0         1   \n",
       "3   45        1         0           0                   1         1   \n",
       "4   60        1         1           1                   1         1   \n",
       "\n",
       "   polyphagia  genital_thrush  visual_blurring  itching  irritability  \\\n",
       "0           0               0                0        1             0   \n",
       "1           0               0                1        0             0   \n",
       "2           1               0                0        1             0   \n",
       "3           1               1                0        1             0   \n",
       "4           1               0                1        1             1   \n",
       "\n",
       "   delayed_healing  partial_paresis  muscle_stiffness  alopecia  obesity  \\\n",
       "0                1                0                 1         1        1   \n",
       "1                0                1                 0         1        0   \n",
       "2                1                0                 1         1        0   \n",
       "3                1                0                 0         0        0   \n",
       "4                1                1                 1         1        1   \n",
       "\n",
       "   diabetes_found    age_qcut_4   age_qcut_10  \n",
       "0               1  (39.0, 47.5]  (37.0, 40.0]  \n",
       "1               1  (57.0, 90.0]  (55.0, 58.0]  \n",
       "2               1  (39.0, 47.5]  (40.0, 44.0]  \n",
       "3               1  (39.0, 47.5]  (44.0, 48.0]  \n",
       "4               1  (57.0, 90.0]  (58.0, 65.0]  "
      ]
     },
     "execution_count": 16,
     "metadata": {},
     "output_type": "execute_result"
    }
   ],
   "source": [
    "# Create boolean version of 'Yes'/'No' valued columns using 1/0 instead of True/False to allow for summing\n",
    "df_boolean = df.replace({'Yes':1, 'No':0})\n",
    "df_boolean.head()"
   ]
  },
  {
   "cell_type": "code",
   "execution_count": 17,
   "metadata": {},
   "outputs": [],
   "source": [
    "# Make version of boolean df with only those for which diabetes was found\n",
    "df_boolean_diabetes_not_found = df_boolean[df_boolean['diabetes_found'] == 0]\n",
    "# Make version of boolean df with only those for which diabetes was found\n",
    "df_boolean_diabetes_found = df_boolean[df_boolean['diabetes_found'] == 1]"
   ]
  },
  {
   "cell_type": "code",
   "execution_count": 18,
   "metadata": {},
   "outputs": [
    {
     "name": "stdout",
     "output_type": "stream",
     "text": [
      "(47.5, 57.0]      103\n",
      "(15.999, 39.0]     85\n",
      "(57.0, 90.0]       78\n",
      "(39.0, 47.5]       54\n",
      "Name: age_qcut_4, dtype: int64\n"
     ]
    }
   ],
   "source": [
    "# Find out how many there are of each qcut_4 age group among subjects with diabetes_found\n",
    "diabetes_found_totals_age_qcut_4 = df_boolean_diabetes_found['age_qcut_4'].value_counts()\n",
    "print(diabetes_found_totals_age_qcut_4)"
   ]
  },
  {
   "cell_type": "code",
   "execution_count": 19,
   "metadata": {},
   "outputs": [
    {
     "name": "stdout",
     "output_type": "stream",
     "text": [
      "(15.999, 39.0]    144\n",
      "(47.5, 57.0]      143\n",
      "(57.0, 90.0]      117\n",
      "(39.0, 47.5]      116\n",
      "Name: age_qcut_4, dtype: int64\n"
     ]
    }
   ],
   "source": [
    "# Find out how many there are of each qcut_4 age group among all subjects\n",
    "all_totals_age_qcut_4 = df_boolean['age_qcut_4'].value_counts()\n",
    "print(all_totals_age_qcut_4)"
   ]
  },
  {
   "cell_type": "code",
   "execution_count": 20,
   "metadata": {},
   "outputs": [
    {
     "name": "stdout",
     "output_type": "stream",
     "text": [
      "                diabetes_found  all\n",
      "(15.999, 39.0]              85  144\n",
      "(39.0, 47.5]                54  116\n",
      "(47.5, 57.0]               103  143\n",
      "(57.0, 90.0]                78  117\n"
     ]
    }
   ],
   "source": [
    "# Make dataframe that compares how many subjects with diabetes and how many subjects total for each age group\n",
    "df_age_qcut_4_vs_all = pd.DataFrame({'diabetes_found': diabetes_found_totals_age_qcut_4, 'all': all_totals_age_qcut_4})\n",
    "print(df_age_qcut_4_vs_all)"
   ]
  },
  {
   "cell_type": "code",
   "execution_count": 21,
   "metadata": {},
   "outputs": [
    {
     "name": "stdout",
     "output_type": "stream",
     "text": [
      "                diabetes_found  all  percentage_diabetes_found\n",
      "(15.999, 39.0]              85  144                  59.027778\n",
      "(39.0, 47.5]                54  116                  46.551724\n",
      "(47.5, 57.0]               103  143                  72.027972\n",
      "(57.0, 90.0]                78  117                  66.666667\n"
     ]
    }
   ],
   "source": [
    "# Create column that contains what percentage of diabetes_found subjects is in all subjects for four age groups\n",
    "df_age_qcut_4_vs_all['percentage_diabetes_found'] = col_percentage_of(df_age_qcut_4_vs_all['diabetes_found'], df_age_qcut_4_vs_all['all'])\n",
    "print(df_age_qcut_4_vs_all)"
   ]
  },
  {
   "cell_type": "code",
   "execution_count": 22,
   "metadata": {},
   "outputs": [
    {
     "name": "stderr",
     "output_type": "stream",
     "text": [
      "C:\\Anaconda3\\lib\\site-packages\\ipykernel_launcher.py:4: SettingWithCopyWarning: \n",
      "A value is trying to be set on a copy of a slice from a DataFrame.\n",
      "Try using .loc[row_indexer,col_indexer] = value instead\n",
      "\n",
      "See the caveats in the documentation: https://pandas.pydata.org/pandas-docs/stable/user_guide/indexing.html#returning-a-view-versus-a-copy\n",
      "  after removing the cwd from sys.path.\n",
      "C:\\Anaconda3\\lib\\site-packages\\ipykernel_launcher.py:5: SettingWithCopyWarning: \n",
      "A value is trying to be set on a copy of a slice from a DataFrame.\n",
      "Try using .loc[row_indexer,col_indexer] = value instead\n",
      "\n",
      "See the caveats in the documentation: https://pandas.pydata.org/pandas-docs/stable/user_guide/indexing.html#returning-a-view-versus-a-copy\n",
      "  \"\"\"\n"
     ]
    },
    {
     "data": {
      "text/html": [
       "<div>\n",
       "<style scoped>\n",
       "    .dataframe tbody tr th:only-of-type {\n",
       "        vertical-align: middle;\n",
       "    }\n",
       "\n",
       "    .dataframe tbody tr th {\n",
       "        vertical-align: top;\n",
       "    }\n",
       "\n",
       "    .dataframe thead th {\n",
       "        text-align: right;\n",
       "    }\n",
       "</style>\n",
       "<table border=\"1\" class=\"dataframe\">\n",
       "  <thead>\n",
       "    <tr style=\"text-align: right;\">\n",
       "      <th></th>\n",
       "      <th>age</th>\n",
       "      <th>is_male</th>\n",
       "      <th>polyuria</th>\n",
       "      <th>polydipsia</th>\n",
       "      <th>sudden_weight_loss</th>\n",
       "      <th>weakness</th>\n",
       "      <th>polyphagia</th>\n",
       "      <th>genital_thrush</th>\n",
       "      <th>visual_blurring</th>\n",
       "      <th>itching</th>\n",
       "      <th>irritability</th>\n",
       "      <th>delayed_healing</th>\n",
       "      <th>partial_paresis</th>\n",
       "      <th>muscle_stiffness</th>\n",
       "      <th>alopecia</th>\n",
       "      <th>obesity</th>\n",
       "      <th>diabetes_found</th>\n",
       "      <th>age_qcut_4</th>\n",
       "      <th>age_qcut_10</th>\n",
       "      <th>age_over_47_point_5</th>\n",
       "    </tr>\n",
       "  </thead>\n",
       "  <tbody>\n",
       "    <tr>\n",
       "      <th>0</th>\n",
       "      <td>40</td>\n",
       "      <td>1</td>\n",
       "      <td>0</td>\n",
       "      <td>1</td>\n",
       "      <td>0</td>\n",
       "      <td>1</td>\n",
       "      <td>0</td>\n",
       "      <td>0</td>\n",
       "      <td>0</td>\n",
       "      <td>1</td>\n",
       "      <td>0</td>\n",
       "      <td>1</td>\n",
       "      <td>0</td>\n",
       "      <td>1</td>\n",
       "      <td>1</td>\n",
       "      <td>1</td>\n",
       "      <td>1</td>\n",
       "      <td>(39.0, 47.5]</td>\n",
       "      <td>(37.0, 40.0]</td>\n",
       "      <td>0</td>\n",
       "    </tr>\n",
       "    <tr>\n",
       "      <th>1</th>\n",
       "      <td>58</td>\n",
       "      <td>1</td>\n",
       "      <td>0</td>\n",
       "      <td>0</td>\n",
       "      <td>0</td>\n",
       "      <td>1</td>\n",
       "      <td>0</td>\n",
       "      <td>0</td>\n",
       "      <td>1</td>\n",
       "      <td>0</td>\n",
       "      <td>0</td>\n",
       "      <td>0</td>\n",
       "      <td>1</td>\n",
       "      <td>0</td>\n",
       "      <td>1</td>\n",
       "      <td>0</td>\n",
       "      <td>1</td>\n",
       "      <td>(57.0, 90.0]</td>\n",
       "      <td>(55.0, 58.0]</td>\n",
       "      <td>1</td>\n",
       "    </tr>\n",
       "    <tr>\n",
       "      <th>2</th>\n",
       "      <td>41</td>\n",
       "      <td>1</td>\n",
       "      <td>1</td>\n",
       "      <td>0</td>\n",
       "      <td>0</td>\n",
       "      <td>1</td>\n",
       "      <td>1</td>\n",
       "      <td>0</td>\n",
       "      <td>0</td>\n",
       "      <td>1</td>\n",
       "      <td>0</td>\n",
       "      <td>1</td>\n",
       "      <td>0</td>\n",
       "      <td>1</td>\n",
       "      <td>1</td>\n",
       "      <td>0</td>\n",
       "      <td>1</td>\n",
       "      <td>(39.0, 47.5]</td>\n",
       "      <td>(40.0, 44.0]</td>\n",
       "      <td>0</td>\n",
       "    </tr>\n",
       "    <tr>\n",
       "      <th>3</th>\n",
       "      <td>45</td>\n",
       "      <td>1</td>\n",
       "      <td>0</td>\n",
       "      <td>0</td>\n",
       "      <td>1</td>\n",
       "      <td>1</td>\n",
       "      <td>1</td>\n",
       "      <td>1</td>\n",
       "      <td>0</td>\n",
       "      <td>1</td>\n",
       "      <td>0</td>\n",
       "      <td>1</td>\n",
       "      <td>0</td>\n",
       "      <td>0</td>\n",
       "      <td>0</td>\n",
       "      <td>0</td>\n",
       "      <td>1</td>\n",
       "      <td>(39.0, 47.5]</td>\n",
       "      <td>(44.0, 48.0]</td>\n",
       "      <td>0</td>\n",
       "    </tr>\n",
       "    <tr>\n",
       "      <th>4</th>\n",
       "      <td>60</td>\n",
       "      <td>1</td>\n",
       "      <td>1</td>\n",
       "      <td>1</td>\n",
       "      <td>1</td>\n",
       "      <td>1</td>\n",
       "      <td>1</td>\n",
       "      <td>0</td>\n",
       "      <td>1</td>\n",
       "      <td>1</td>\n",
       "      <td>1</td>\n",
       "      <td>1</td>\n",
       "      <td>1</td>\n",
       "      <td>1</td>\n",
       "      <td>1</td>\n",
       "      <td>1</td>\n",
       "      <td>1</td>\n",
       "      <td>(57.0, 90.0]</td>\n",
       "      <td>(58.0, 65.0]</td>\n",
       "      <td>1</td>\n",
       "    </tr>\n",
       "  </tbody>\n",
       "</table>\n",
       "</div>"
      ],
      "text/plain": [
       "   age  is_male  polyuria  polydipsia  sudden_weight_loss  weakness  \\\n",
       "0   40        1         0           1                   0         1   \n",
       "1   58        1         0           0                   0         1   \n",
       "2   41        1         1           0                   0         1   \n",
       "3   45        1         0           0                   1         1   \n",
       "4   60        1         1           1                   1         1   \n",
       "\n",
       "   polyphagia  genital_thrush  visual_blurring  itching  irritability  \\\n",
       "0           0               0                0        1             0   \n",
       "1           0               0                1        0             0   \n",
       "2           1               0                0        1             0   \n",
       "3           1               1                0        1             0   \n",
       "4           1               0                1        1             1   \n",
       "\n",
       "   delayed_healing  partial_paresis  muscle_stiffness  alopecia  obesity  \\\n",
       "0                1                0                 1         1        1   \n",
       "1                0                1                 0         1        0   \n",
       "2                1                0                 1         1        0   \n",
       "3                1                0                 0         0        0   \n",
       "4                1                1                 1         1        1   \n",
       "\n",
       "   diabetes_found    age_qcut_4   age_qcut_10  age_over_47_point_5  \n",
       "0               1  (39.0, 47.5]  (37.0, 40.0]                    0  \n",
       "1               1  (57.0, 90.0]  (55.0, 58.0]                    1  \n",
       "2               1  (39.0, 47.5]  (40.0, 44.0]                    0  \n",
       "3               1  (39.0, 47.5]  (44.0, 48.0]                    0  \n",
       "4               1  (57.0, 90.0]  (58.0, 65.0]                    1  "
      ]
     },
     "execution_count": 22,
     "metadata": {},
     "output_type": "execute_result"
    }
   ],
   "source": [
    "# Since 72% between ages 47.5 and 57 and 67% between ages 57 and 90 had diabetes_found, am going to create another\n",
    "# boolean column called age_over_47_point_5\n",
    "df_boolean['age_over_47_point_5'] = np.where(df_boolean['age'] >= 47.5, 1, 0)\n",
    "df_boolean_diabetes_not_found['age_over_47_point_5'] = np.where(df_boolean_diabetes_not_found['age'] >= 47.5, 1, 0)\n",
    "df_boolean_diabetes_found['age_over_47_point_5'] = np.where(df_boolean_diabetes_found['age'] >= 47.5, 1, 0)\n",
    "df_boolean.head()"
   ]
  },
  {
   "cell_type": "code",
   "execution_count": 23,
   "metadata": {},
   "outputs": [
    {
     "name": "stdout",
     "output_type": "stream",
     "text": [
      "['age', 'is_male', 'polyuria', 'polydipsia', 'sudden_weight_loss', 'weakness', 'polyphagia', 'genital_thrush', 'visual_blurring', 'itching', 'irritability', 'delayed_healing', 'partial_paresis', 'muscle_stiffness', 'alopecia', 'obesity', 'diabetes_found', 'age_qcut_4', 'age_qcut_10', 'age_over_47_point_5']\n"
     ]
    }
   ],
   "source": [
    "# Create a column list of all the columns in df_boolean (eventually will be only the boolean columns)\n",
    "column_list_boolean = list(df_boolean.columns) #column_list_boolean = list(df_boolean) also works\n",
    "print(column_list_boolean)"
   ]
  },
  {
   "cell_type": "code",
   "execution_count": 24,
   "metadata": {},
   "outputs": [
    {
     "name": "stdout",
     "output_type": "stream",
     "text": [
      "['is_male', 'polyuria', 'polydipsia', 'sudden_weight_loss', 'weakness', 'polyphagia', 'genital_thrush', 'visual_blurring', 'itching', 'irritability', 'delayed_healing', 'partial_paresis', 'muscle_stiffness', 'alopecia', 'obesity', 'diabetes_found', 'age_over_47_point_5']\n"
     ]
    }
   ],
   "source": [
    "# Remove columns that are not boolean\n",
    "column_list_boolean.remove('age')\n",
    "column_list_boolean.remove('age_qcut_4')\n",
    "column_list_boolean.remove('age_qcut_10')\n",
    "print(column_list_boolean)\n",
    "# ['is_male', 'polyuria', 'polydipsia', 'sudden_weight_loss', 'weakness', 'polyphagia', 'genital_thrush', \n",
    "# 'visual_blurring', 'itching', 'irritability', 'delayed_healing', 'partial_paresis', 'muscle_stiffness', 'alopecia', \n",
    "# 'obesity', 'diabetes_found', 'age_over_47_point_5']"
   ]
  },
  {
   "cell_type": "code",
   "execution_count": 25,
   "metadata": {},
   "outputs": [],
   "source": [
    "# Create a column list of all the columns that are not boolean\n",
    "column_list_non_boolean_age = ['age', 'age_qcut_4', 'age_qcut_10']"
   ]
  },
  {
   "cell_type": "code",
   "execution_count": 26,
   "metadata": {},
   "outputs": [
    {
     "data": {
      "text/html": [
       "<div>\n",
       "<style scoped>\n",
       "    .dataframe tbody tr th:only-of-type {\n",
       "        vertical-align: middle;\n",
       "    }\n",
       "\n",
       "    .dataframe tbody tr th {\n",
       "        vertical-align: top;\n",
       "    }\n",
       "\n",
       "    .dataframe thead th {\n",
       "        text-align: right;\n",
       "    }\n",
       "</style>\n",
       "<table border=\"1\" class=\"dataframe\">\n",
       "  <thead>\n",
       "    <tr style=\"text-align: right;\">\n",
       "      <th></th>\n",
       "      <th>age</th>\n",
       "      <th>is_male</th>\n",
       "      <th>polyuria</th>\n",
       "      <th>polydipsia</th>\n",
       "      <th>sudden_weight_loss</th>\n",
       "      <th>weakness</th>\n",
       "      <th>polyphagia</th>\n",
       "      <th>genital_thrush</th>\n",
       "      <th>visual_blurring</th>\n",
       "      <th>itching</th>\n",
       "      <th>irritability</th>\n",
       "      <th>delayed_healing</th>\n",
       "      <th>partial_paresis</th>\n",
       "      <th>muscle_stiffness</th>\n",
       "      <th>alopecia</th>\n",
       "      <th>obesity</th>\n",
       "      <th>diabetes_found</th>\n",
       "      <th>age_qcut_4</th>\n",
       "      <th>age_qcut_10</th>\n",
       "      <th>num_symptoms_incl_boolean_age</th>\n",
       "    </tr>\n",
       "  </thead>\n",
       "  <tbody>\n",
       "    <tr>\n",
       "      <th>0</th>\n",
       "      <td>40</td>\n",
       "      <td>Yes</td>\n",
       "      <td>No</td>\n",
       "      <td>Yes</td>\n",
       "      <td>No</td>\n",
       "      <td>Yes</td>\n",
       "      <td>No</td>\n",
       "      <td>No</td>\n",
       "      <td>No</td>\n",
       "      <td>Yes</td>\n",
       "      <td>No</td>\n",
       "      <td>Yes</td>\n",
       "      <td>No</td>\n",
       "      <td>Yes</td>\n",
       "      <td>Yes</td>\n",
       "      <td>Yes</td>\n",
       "      <td>Yes</td>\n",
       "      <td>(39.0, 47.5]</td>\n",
       "      <td>(37.0, 40.0]</td>\n",
       "      <td>9</td>\n",
       "    </tr>\n",
       "    <tr>\n",
       "      <th>1</th>\n",
       "      <td>58</td>\n",
       "      <td>Yes</td>\n",
       "      <td>No</td>\n",
       "      <td>No</td>\n",
       "      <td>No</td>\n",
       "      <td>Yes</td>\n",
       "      <td>No</td>\n",
       "      <td>No</td>\n",
       "      <td>Yes</td>\n",
       "      <td>No</td>\n",
       "      <td>No</td>\n",
       "      <td>No</td>\n",
       "      <td>Yes</td>\n",
       "      <td>No</td>\n",
       "      <td>Yes</td>\n",
       "      <td>No</td>\n",
       "      <td>Yes</td>\n",
       "      <td>(57.0, 90.0]</td>\n",
       "      <td>(55.0, 58.0]</td>\n",
       "      <td>7</td>\n",
       "    </tr>\n",
       "    <tr>\n",
       "      <th>2</th>\n",
       "      <td>41</td>\n",
       "      <td>Yes</td>\n",
       "      <td>Yes</td>\n",
       "      <td>No</td>\n",
       "      <td>No</td>\n",
       "      <td>Yes</td>\n",
       "      <td>Yes</td>\n",
       "      <td>No</td>\n",
       "      <td>No</td>\n",
       "      <td>Yes</td>\n",
       "      <td>No</td>\n",
       "      <td>Yes</td>\n",
       "      <td>No</td>\n",
       "      <td>Yes</td>\n",
       "      <td>Yes</td>\n",
       "      <td>No</td>\n",
       "      <td>Yes</td>\n",
       "      <td>(39.0, 47.5]</td>\n",
       "      <td>(40.0, 44.0]</td>\n",
       "      <td>9</td>\n",
       "    </tr>\n",
       "    <tr>\n",
       "      <th>3</th>\n",
       "      <td>45</td>\n",
       "      <td>Yes</td>\n",
       "      <td>No</td>\n",
       "      <td>No</td>\n",
       "      <td>Yes</td>\n",
       "      <td>Yes</td>\n",
       "      <td>Yes</td>\n",
       "      <td>Yes</td>\n",
       "      <td>No</td>\n",
       "      <td>Yes</td>\n",
       "      <td>No</td>\n",
       "      <td>Yes</td>\n",
       "      <td>No</td>\n",
       "      <td>No</td>\n",
       "      <td>No</td>\n",
       "      <td>No</td>\n",
       "      <td>Yes</td>\n",
       "      <td>(39.0, 47.5]</td>\n",
       "      <td>(44.0, 48.0]</td>\n",
       "      <td>8</td>\n",
       "    </tr>\n",
       "    <tr>\n",
       "      <th>4</th>\n",
       "      <td>60</td>\n",
       "      <td>Yes</td>\n",
       "      <td>Yes</td>\n",
       "      <td>Yes</td>\n",
       "      <td>Yes</td>\n",
       "      <td>Yes</td>\n",
       "      <td>Yes</td>\n",
       "      <td>No</td>\n",
       "      <td>Yes</td>\n",
       "      <td>Yes</td>\n",
       "      <td>Yes</td>\n",
       "      <td>Yes</td>\n",
       "      <td>Yes</td>\n",
       "      <td>Yes</td>\n",
       "      <td>Yes</td>\n",
       "      <td>Yes</td>\n",
       "      <td>Yes</td>\n",
       "      <td>(57.0, 90.0]</td>\n",
       "      <td>(58.0, 65.0]</td>\n",
       "      <td>16</td>\n",
       "    </tr>\n",
       "  </tbody>\n",
       "</table>\n",
       "</div>"
      ],
      "text/plain": [
       "   age is_male polyuria polydipsia sudden_weight_loss weakness polyphagia  \\\n",
       "0   40     Yes       No        Yes                 No      Yes         No   \n",
       "1   58     Yes       No         No                 No      Yes         No   \n",
       "2   41     Yes      Yes         No                 No      Yes        Yes   \n",
       "3   45     Yes       No         No                Yes      Yes        Yes   \n",
       "4   60     Yes      Yes        Yes                Yes      Yes        Yes   \n",
       "\n",
       "  genital_thrush visual_blurring itching irritability delayed_healing  \\\n",
       "0             No              No     Yes           No             Yes   \n",
       "1             No             Yes      No           No              No   \n",
       "2             No              No     Yes           No             Yes   \n",
       "3            Yes              No     Yes           No             Yes   \n",
       "4             No             Yes     Yes          Yes             Yes   \n",
       "\n",
       "  partial_paresis muscle_stiffness alopecia obesity diabetes_found  \\\n",
       "0              No              Yes      Yes     Yes            Yes   \n",
       "1             Yes               No      Yes      No            Yes   \n",
       "2              No              Yes      Yes      No            Yes   \n",
       "3              No               No       No      No            Yes   \n",
       "4             Yes              Yes      Yes     Yes            Yes   \n",
       "\n",
       "     age_qcut_4   age_qcut_10  num_symptoms_incl_boolean_age  \n",
       "0  (39.0, 47.5]  (37.0, 40.0]                              9  \n",
       "1  (57.0, 90.0]  (55.0, 58.0]                              7  \n",
       "2  (39.0, 47.5]  (40.0, 44.0]                              9  \n",
       "3  (39.0, 47.5]  (44.0, 48.0]                              8  \n",
       "4  (57.0, 90.0]  (58.0, 65.0]                             16  "
      ]
     },
     "execution_count": 26,
     "metadata": {},
     "output_type": "execute_result"
    }
   ],
   "source": [
    "# Use the boolean version of the df to creating a column containing the number of symptoms for the row\n",
    "df['num_symptoms_incl_boolean_age'] = df_boolean[column_list_boolean].sum(axis=1)\n",
    "df.head()"
   ]
  },
  {
   "cell_type": "code",
   "execution_count": 27,
   "metadata": {},
   "outputs": [
    {
     "name": "stdout",
     "output_type": "stream",
     "text": [
      "    orig_index              symptom  total\n",
      "0           15       diabetes_found    320\n",
      "1            1             polyuria    243\n",
      "2            2           polydipsia    225\n",
      "3            4             weakness    218\n",
      "4           11      partial_paresis    192\n",
      "5            5           polyphagia    189\n",
      "6            3   sudden_weight_loss    188\n",
      "7           16  age_over_47_point_5    181\n",
      "8            7      visual_blurring    175\n",
      "9            8              itching    154\n",
      "10          10      delayed_healing    153\n",
      "11           0              is_male    147\n",
      "12          12     muscle_stiffness    135\n",
      "13           9         irritability    110\n",
      "14           6       genital_thrush     83\n",
      "15          13             alopecia     78\n",
      "16          14              obesity     61\n"
     ]
    }
   ],
   "source": [
    "# Make a list of totals for each symptom column and make dataframe version of it\n",
    "diabetes_found_totals = df_boolean_diabetes_found[column_list_boolean].sum(axis=0)\n",
    "df_diabetes_found_totals = pd.DataFrame(diabetes_found_totals).reset_index()\n",
    "df_diabetes_found_totals.columns = ['symptom', 'total']\n",
    "# Sort descending to find out which symptoms most prevalent in those with diabetes\n",
    "diabetes_found_totals_sorted = df_diabetes_found_totals.sort_values(by='total', ascending=False)\n",
    "# Turn list into dataframe and give numeric index\n",
    "df_diabetes_found_totals_sorted = pd.DataFrame(diabetes_found_totals_sorted).reset_index()\n",
    "# Give column headings to columns in dataframe\n",
    "df_diabetes_found_totals_sorted.columns = ['orig_index', 'symptom', 'total']\n",
    "print(df_diabetes_found_totals_sorted)"
   ]
  },
  {
   "cell_type": "code",
   "execution_count": 28,
   "metadata": {},
   "outputs": [
    {
     "name": "stdout",
     "output_type": "stream",
     "text": [
      "['diabetes_found', 'polyuria', 'polydipsia', 'weakness', 'partial_paresis', 'polyphagia', 'sudden_weight_loss', 'age_over_47_point_5', 'visual_blurring', 'itching', 'delayed_healing', 'is_male', 'muscle_stiffness', 'irritability', 'genital_thrush', 'alopecia', 'obesity']\n"
     ]
    }
   ],
   "source": [
    "# Create a list of symptoms in order of how much they appear in those rows where diabetes_found\n",
    "symptom_importance_list = df_diabetes_found_totals_sorted['symptom'].to_list()\n",
    "print(symptom_importance_list)"
   ]
  },
  {
   "cell_type": "code",
   "execution_count": 29,
   "metadata": {},
   "outputs": [
    {
     "data": {
      "text/plain": [
       "'polyuria'"
      ]
     },
     "execution_count": 29,
     "metadata": {},
     "output_type": "execute_result"
    }
   ],
   "source": [
    "# Test function get_symptom_col_str\n",
    "get_symptom_col_str(df_diabetes_found_totals_sorted, 1) "
   ]
  },
  {
   "cell_type": "code",
   "execution_count": 30,
   "metadata": {},
   "outputs": [],
   "source": [
    "# Create column symptom_str using function get_symptom_col_str for each symptom\n",
    "# Really did not use this column, but thought would at one time to distinguish from symptom column (object, not string)\n",
    "df_diabetes_found_totals_sorted['symptom_str'] = [get_symptom_col_str(df_diabetes_found_totals_sorted, i) for i in range(17)]"
   ]
  },
  {
   "cell_type": "code",
   "execution_count": 31,
   "metadata": {},
   "outputs": [
    {
     "data": {
      "text/html": [
       "<div>\n",
       "<style scoped>\n",
       "    .dataframe tbody tr th:only-of-type {\n",
       "        vertical-align: middle;\n",
       "    }\n",
       "\n",
       "    .dataframe tbody tr th {\n",
       "        vertical-align: top;\n",
       "    }\n",
       "\n",
       "    .dataframe thead th {\n",
       "        text-align: right;\n",
       "    }\n",
       "</style>\n",
       "<table border=\"1\" class=\"dataframe\">\n",
       "  <thead>\n",
       "    <tr style=\"text-align: right;\">\n",
       "      <th></th>\n",
       "      <th>symptom</th>\n",
       "      <th>total</th>\n",
       "      <th>symptom_str</th>\n",
       "      <th>symptom_importance</th>\n",
       "    </tr>\n",
       "  </thead>\n",
       "  <tbody>\n",
       "    <tr>\n",
       "      <th>1</th>\n",
       "      <td>polyuria</td>\n",
       "      <td>243</td>\n",
       "      <td>polyuria</td>\n",
       "      <td>1</td>\n",
       "    </tr>\n",
       "    <tr>\n",
       "      <th>2</th>\n",
       "      <td>polydipsia</td>\n",
       "      <td>225</td>\n",
       "      <td>polydipsia</td>\n",
       "      <td>2</td>\n",
       "    </tr>\n",
       "    <tr>\n",
       "      <th>3</th>\n",
       "      <td>weakness</td>\n",
       "      <td>218</td>\n",
       "      <td>weakness</td>\n",
       "      <td>3</td>\n",
       "    </tr>\n",
       "    <tr>\n",
       "      <th>4</th>\n",
       "      <td>partial_paresis</td>\n",
       "      <td>192</td>\n",
       "      <td>partial_paresis</td>\n",
       "      <td>4</td>\n",
       "    </tr>\n",
       "    <tr>\n",
       "      <th>5</th>\n",
       "      <td>polyphagia</td>\n",
       "      <td>189</td>\n",
       "      <td>polyphagia</td>\n",
       "      <td>5</td>\n",
       "    </tr>\n",
       "    <tr>\n",
       "      <th>6</th>\n",
       "      <td>sudden_weight_loss</td>\n",
       "      <td>188</td>\n",
       "      <td>sudden_weight_loss</td>\n",
       "      <td>6</td>\n",
       "    </tr>\n",
       "    <tr>\n",
       "      <th>7</th>\n",
       "      <td>age_over_47_point_5</td>\n",
       "      <td>181</td>\n",
       "      <td>age_over_47_point_5</td>\n",
       "      <td>7</td>\n",
       "    </tr>\n",
       "    <tr>\n",
       "      <th>8</th>\n",
       "      <td>visual_blurring</td>\n",
       "      <td>175</td>\n",
       "      <td>visual_blurring</td>\n",
       "      <td>8</td>\n",
       "    </tr>\n",
       "    <tr>\n",
       "      <th>9</th>\n",
       "      <td>itching</td>\n",
       "      <td>154</td>\n",
       "      <td>itching</td>\n",
       "      <td>9</td>\n",
       "    </tr>\n",
       "    <tr>\n",
       "      <th>10</th>\n",
       "      <td>delayed_healing</td>\n",
       "      <td>153</td>\n",
       "      <td>delayed_healing</td>\n",
       "      <td>10</td>\n",
       "    </tr>\n",
       "    <tr>\n",
       "      <th>11</th>\n",
       "      <td>is_male</td>\n",
       "      <td>147</td>\n",
       "      <td>is_male</td>\n",
       "      <td>11</td>\n",
       "    </tr>\n",
       "    <tr>\n",
       "      <th>12</th>\n",
       "      <td>muscle_stiffness</td>\n",
       "      <td>135</td>\n",
       "      <td>muscle_stiffness</td>\n",
       "      <td>12</td>\n",
       "    </tr>\n",
       "    <tr>\n",
       "      <th>13</th>\n",
       "      <td>irritability</td>\n",
       "      <td>110</td>\n",
       "      <td>irritability</td>\n",
       "      <td>13</td>\n",
       "    </tr>\n",
       "    <tr>\n",
       "      <th>14</th>\n",
       "      <td>genital_thrush</td>\n",
       "      <td>83</td>\n",
       "      <td>genital_thrush</td>\n",
       "      <td>14</td>\n",
       "    </tr>\n",
       "    <tr>\n",
       "      <th>15</th>\n",
       "      <td>alopecia</td>\n",
       "      <td>78</td>\n",
       "      <td>alopecia</td>\n",
       "      <td>15</td>\n",
       "    </tr>\n",
       "    <tr>\n",
       "      <th>16</th>\n",
       "      <td>obesity</td>\n",
       "      <td>61</td>\n",
       "      <td>obesity</td>\n",
       "      <td>16</td>\n",
       "    </tr>\n",
       "  </tbody>\n",
       "</table>\n",
       "</div>"
      ],
      "text/plain": [
       "                symptom  total          symptom_str  symptom_importance\n",
       "1              polyuria    243             polyuria                   1\n",
       "2            polydipsia    225           polydipsia                   2\n",
       "3              weakness    218             weakness                   3\n",
       "4       partial_paresis    192      partial_paresis                   4\n",
       "5            polyphagia    189           polyphagia                   5\n",
       "6    sudden_weight_loss    188   sudden_weight_loss                   6\n",
       "7   age_over_47_point_5    181  age_over_47_point_5                   7\n",
       "8       visual_blurring    175      visual_blurring                   8\n",
       "9               itching    154              itching                   9\n",
       "10      delayed_healing    153      delayed_healing                  10\n",
       "11              is_male    147              is_male                  11\n",
       "12     muscle_stiffness    135     muscle_stiffness                  12\n",
       "13         irritability    110         irritability                  13\n",
       "14       genital_thrush     83       genital_thrush                  14\n",
       "15             alopecia     78             alopecia                  15\n",
       "16              obesity     61              obesity                  16"
      ]
     },
     "execution_count": 31,
     "metadata": {},
     "output_type": "execute_result"
    }
   ],
   "source": [
    "# Add column showing importance of symptom in predicting diabetes based on its count among those rows with diabetes_found\n",
    "df_diabetes_found_totals_sorted['symptom_importance'] = df_diabetes_found_totals_sorted.index\n",
    "# Drop irrelevant first row\n",
    "df_diabetes_found_totals_sorted.drop(0, inplace=True)\n",
    "# Drop irrelevant orig_index column\n",
    "df_diabetes_found_totals_sorted.drop(columns='orig_index', inplace=True)\n",
    "df_diabetes_found_totals_sorted.head(20)"
   ]
  },
  {
   "cell_type": "markdown",
   "metadata": {},
   "source": [
    "## 7.6.7 Explore The Data<a id='7.6.7_Explore_The_Data'></a>"
   ]
  },
  {
   "cell_type": "code",
   "execution_count": 32,
   "metadata": {},
   "outputs": [
    {
     "name": "stdout",
     "output_type": "stream",
     "text": [
      "['is_male', 'polyuria', 'polydipsia', 'sudden_weight_loss', 'weakness', 'polyphagia', 'genital_thrush', 'visual_blurring', 'itching', 'irritability', 'delayed_healing', 'partial_paresis', 'muscle_stiffness', 'alopecia', 'obesity', 'diabetes_found', 'age_over_47_point_5']\n"
     ]
    }
   ],
   "source": [
    "# Column list of booleans in original order\n",
    "print(column_list_boolean)\n",
    "# ['is_male', 'polyuria', 'polydipsia', 'sudden_weight_loss', 'weakness', \n",
    "# 'polyphagia', 'genital_thrush', 'visual_blurring', 'itching', 'irritability', \n",
    "# 'delayed_healing', 'partial_paresis', 'muscle_stiffness', 'alopecia', 'obesity', 'diabetes_found', 'age_over_47_point_5']"
   ]
  },
  {
   "cell_type": "code",
   "execution_count": 33,
   "metadata": {},
   "outputs": [
    {
     "name": "stdout",
     "output_type": "stream",
     "text": [
      "['polyuria', 'polydipsia', 'weakness', 'partial_paresis', 'polyphagia', 'sudden_weight_loss', 'age_over_47_point_5', 'visual_blurring', 'itching', 'delayed_healing', 'is_male', 'muscle_stiffness', 'irritability', 'genital_thrush', 'alopecia', 'obesity']\n"
     ]
    }
   ],
   "source": [
    "# Column list of boolean symptoms in importance (prevalence in those with diabetes_found) order \n",
    "# (column diabetes_found removed)\n",
    "column_list_boolean_sorted = list(df_diabetes_found_totals_sorted.symptom)\n",
    "print(column_list_boolean_sorted)\n",
    "# ['polyuria', 'polydipsia', 'weakness', 'partial_paresis', 'polyphagia', 'sudden_weight_loss', , 'age_over_47_point_5',\n",
    "# 'visual_blurring', 'itching', 'delayed_healing', 'is_male', \n",
    "# 'muscle_stiffness', 'irritability', 'genital_thrush', 'alopecia', 'obesity']"
   ]
  },
  {
   "cell_type": "code",
   "execution_count": 34,
   "metadata": {},
   "outputs": [
    {
     "name": "stdout",
     "output_type": "stream",
     "text": [
      "10101000101011110\n"
     ]
    }
   ],
   "source": [
    "# Test function create_symptoms_as_binary_str on row 0 of df_boolean_diabetes_found, columns in original table order\n",
    "print(create_symptoms_as_binary_str(df_boolean_diabetes_found, column_list_boolean, 0))\n",
    "# 10101000101011110"
   ]
  },
  {
   "cell_type": "code",
   "execution_count": 35,
   "metadata": {},
   "outputs": [
    {
     "name": "stdout",
     "output_type": "stream",
     "text": [
      "0110000011110011\n"
     ]
    }
   ],
   "source": [
    "# Test function create_symptoms_as_binary_str on row 0 of df_boolean, columns in prevalence order\n",
    "print(create_symptoms_as_binary_str(df_boolean, column_list_boolean_sorted, 0))\n",
    "# 0110000011110011"
   ]
  },
  {
   "cell_type": "code",
   "execution_count": 36,
   "metadata": {},
   "outputs": [
    {
     "name": "stdout",
     "output_type": "stream",
     "text": [
      "['0110000011110011', '0011001100100010', '1010100011110010', '0010110011100100', '1111111111111011', '1110101111110011', '1111101001100100', '1111011110111000', '1111101010111101', '0110111110101010', '1110000001111110', '1100100011110100', '1000100001101110', '1110111110100111', '1111101111100000', '1111101001110000', '1110011001110100', '0111101101111011', '1111101100110000', '1110010000100100', '1111101100111000', '1110111111110110', '1000010010101110', '0110011111101000', '1111111101110001', '0000000001101101', '0010100000111000', '1111111111110000', '0100000000100110', '1111111100101010', '1111111100100000', '1110110110101101', '0010000001100010', '1111011111111000', '1110001110100000', '1110001110100100', '1001001100100010', '1110111100110011', '1001010000100010', '1010110001000000', '0100111111011100', '1101111001000000', '0111101111011000', '1111110011010000', '1111010110010000', '0011011111000000', '1111111111010001', '1111111110010000', '1110110111010001', '1011010101010000', '1101110101011000', '1111111100000000', '0111111101011100', '0110011101000000', '0001001100010000', '0000000000000001', '1111111111010100', '0001101100000000', '0000001000000000', '1111100101011001', '1111101010010000', '1111110111010000', '1111101111010000', '1011011111010101', '0001000110000000', '1000110000000000', '1101000011000000', '0111110010000000', '0010100100000010', '1111111100000001', '0010010000000000', '0111010011010000', '0000001000000100', '1111110000000000', '1111111011010000', '1111011100000001', '1111111000000000', '1101111011000000', '1111110011001000', '1111110100010001', '1110000100000000', '0010110000010000', '1111101001000000', '1111001111000000', '1111110111010000', '0010011000000001', '1111110111011000', '0001000100010000', '1111101111000000', '0000000000000000', '0001100110000000', '1111111111011000', '1111010101010000', '1111100010000000', '1111100111000000', '1111001110000000', '1111010011010000', '1111110010011000', '1100000100000010', '1101100111000100', '1100111001011111', '1111111111110100', '0100011110010110', '1011111001111010', '1011111001111110', '1010111111000110', '0111111110100011', '1011110001110000', '1100100111100110', '1101100101011000', '0010011111000000', '1101111100101111', '1100111101011110', '0111111010101100', '1001011111000100', '1111110111001000', '1101110000011000', '1111100111011000', '1111001111001000', '1110000000011000', '1110101001110010', '1111100011110100', '0111100011111001', '0100000110100011', '1010010000100000', '1111111101100000', '1111001011101100', '1010101010111010', '0110100010101110', '1111011010100010', '1110110110111100', '1000100000111000', '1110010001100100', '1000110000100000', '1110010000100000', '0011001101111110', '0000001010111111', '1111111011111111', '1111011001101110', '1000000011100110', '1100000000110000', '1101101101101010', '1100011010100000', '1001011001100000', '1101101110101000', '1011101111101100', '1100000010110101', '1000000010110101', '0100000001100101', '1110000001100110', '1110111011101010', '1111000000101110', '0110001001101110', '0111001101111110', '1011001110111111', '0100000000100000', '1111011000101100', '1100111001100100', '1010011010101110', '1111110111011000', '0001000100010000', '1111101111000000', '0000000000000000', '0001100110000000', '1111111111011000', '1111010101010000', '1111111100100000', '1110110110101101', '0010000001100010', '1111011111111000', '1110001110100000', '1110001110100100', '1001001100100010', '1110111100110011', '1001010000100010', '1010110001000000', '0100111111011100', '1101111001000000', '0111101111011000', '1111110011010000', '1111010110010000', '1111110010011000', '1100000100000010', '1101100111000100', '1100111001011111', '1111111111110100', '0100011110010110', '1011111001111010', '1011111001111110', '1010111111000110', '0111111110100011', '1100001100100000', '0100001001101000', '1010000111100100', '0010110111101100', '1001100100100010', '0001101100100010', '1000101000001010', '1000111000011001', '1110011110011001', '1111011100000001', '1111111000000000', '1101111011000000', '1111110011001000', '1111110100010001', '1110000100000000', '0010110000010000', '1111101001000000', '1111001111000000', '1111110111010000', '1011001110111111', '0100000000100000', '1111011000101100', '1100111001100100', '1010011010101110', '1111110111011000', '0001000100010000', '1111101111000000', '0000000000000000', '0001100110000000', '1111111111011000', '1111010101010000', '1111111100100000', '1111011100000001', '1111111000000000', '1101111011000000', '1111110011001000', '1111110100010001', '1110000100000000', '0010110000010000', '1000101000001010', '1000111000011001', '1110011110011001', '1111011100000001', '1111111000000000', '1101111011000000', '1111110011001000', '1111110100010001', '1110000100000000', '0010110000010000', '1000101000001010', '1000111000011001', '1110011110011001', '1111011000101100', '1100111001100100', '1010011010101110', '1111110111011000', '0001000100010000', '1111101111000000', '0000000000000000', '0001100110000000', '1111111111011000', '1111010101010000', '1111111100100000', '1100000000110000', '1101101101101010', '1100011010100000', '1001011001100000', '1101101110101000', '1011101111101100', '1100000010110101', '1000000010110101', '1111011100000001', '1111111000000000', '1101111011000000', '1111110011001000', '1111110100010001', '1110000100000000', '0010110000010000', '1000101000001010', '0111101101111011', '1111101100110000', '1110010000100100', '1111101100111000', '1110111111110110', '1000010010101110', '0110011111101000', '1111111101110001', '0000000001101101', '0010100000111000', '1111111111110000', '0100000000100110', '1111111100101010', '1111111100100000', '1110110110101101', '0010000001100010', '1111011111111000', '1110001110100000', '1110001110100100', '1001001100100010', '1110111100110011', '1001010000100010', '1010110001000000', '0100111111011100', '1101111001000000', '0111101111011000', '1111110011010000', '1111010110010000', '0011011111000000', '1111111111010001', '1111110111011000', '0001000100010000', '1111101111000000', '0000000000000000', '0001100110000000', '1111111111011000', '1111010101010000', '1111111100100000', '1111011100000001', '1111111000000000', '1101111011000000', '1111110011001000', '1111110100010001', '1111101111000000', '1000011010101110', '1111011100000001', '1111111000000000', '1101110011000000', '1111111011001000', '1111111100010001']\n"
     ]
    }
   ],
   "source": [
    "# List binary string of symptoms in order of importance for all rows with diabetes_found\n",
    "symptoms_sorted_as_binary_list_diabetes_found = [create_symptoms_as_binary_str(df_boolean_diabetes_found, column_list_boolean_sorted, i) for i in range(len(df_boolean_diabetes_found))]\n",
    "print(symptoms_sorted_as_binary_list_diabetes_found)"
   ]
  },
  {
   "cell_type": "code",
   "execution_count": 37,
   "metadata": {},
   "outputs": [],
   "source": [
    "# Get substrings of various lengths to see how prevalent are combinations of the most important symptoms\n",
    "substr_binary_list_7 = [x[0:7] for x in symptoms_sorted_as_binary_list_diabetes_found]\n",
    "substr_binary_list_3 = [x[0:3] for x in symptoms_sorted_as_binary_list_diabetes_found]\n",
    "substr_binary_list_2 = [x[0:2] for x in symptoms_sorted_as_binary_list_diabetes_found]"
   ]
  },
  {
   "cell_type": "code",
   "execution_count": 38,
   "metadata": {},
   "outputs": [
    {
     "data": {
      "text/plain": [
       "1111111    38\n",
       "1111110    27\n",
       "1111101    18\n",
       "1111011    16\n",
       "1101111    10\n",
       "           ..\n",
       "1011010     1\n",
       "1000011     1\n",
       "1010101     1\n",
       "1010100     1\n",
       "1001100     1\n",
       "Length: 77, dtype: int64"
      ]
     },
     "execution_count": 38,
     "metadata": {},
     "output_type": "execute_result"
    }
   ],
   "source": [
    "# Set up dataframe of each of the substring lists\n",
    "df_substr_binary_list_diabetes_found = pd.DataFrame(symptoms_sorted_as_binary_list_diabetes_found)\n",
    "df_substr_binary_list_diabetes_found_7 = pd.DataFrame(substr_binary_list_7)\n",
    "df_substr_binary_list_diabetes_found_3 = pd.DataFrame(substr_binary_list_3)\n",
    "df_substr_binary_list_diabetes_found_2 = pd.DataFrame(substr_binary_list_2)\n",
    "# List of counts of substrings with 7 most important symptoms - visually, first 4 stand out as being prevalent together\n",
    "df_substr_binary_list_diabetes_found_7.value_counts()"
   ]
  },
  {
   "cell_type": "code",
   "execution_count": 39,
   "metadata": {},
   "outputs": [
    {
     "data": {
      "text/plain": [
       "111    155\n",
       "110     38\n",
       "100     27\n",
       "000     25\n",
       "101     23\n",
       "011     20\n",
       "001     20\n",
       "010     12\n",
       "dtype: int64"
      ]
     },
     "execution_count": 39,
     "metadata": {},
     "output_type": "execute_result"
    }
   ],
   "source": [
    "df_substr_binary_list_diabetes_found_3.value_counts()"
   ]
  },
  {
   "cell_type": "code",
   "execution_count": 40,
   "metadata": {},
   "outputs": [
    {
     "data": {
      "text/plain": [
       "11    193\n",
       "10     50\n",
       "00     45\n",
       "01     32\n",
       "dtype: int64"
      ]
     },
     "execution_count": 40,
     "metadata": {},
     "output_type": "execute_result"
    }
   ],
   "source": [
    "df_substr_binary_list_diabetes_found_2.value_counts()"
   ]
  },
  {
   "cell_type": "code",
   "execution_count": 41,
   "metadata": {},
   "outputs": [],
   "source": [
    "# Results:\n",
    "# 113 of 320 (35%) had all of the top four symptoms: 'polyuria', 'polydipsia', 'weakness', 'partial_paresis'\n",
    "# 155 of 320 (48%) had all of the top three symptoms: 'polyuria', 'polydipsia', 'weakness'\n",
    "# 193 of 320 (60%) had both of the top two symptoms: 'polyuria', 'polydipsia'"
   ]
  },
  {
   "cell_type": "code",
   "execution_count": 42,
   "metadata": {},
   "outputs": [
    {
     "data": {
      "image/png": "[encoded data removed]",
      "text/plain": [
       "<Figure size 432x288 with 1 Axes>"
      ]
     },
     "metadata": {
      "needs_background": "light"
     },
     "output_type": "display_data"
    }
   ],
   "source": [
    "# Graph of prevalence of various symptoms\n",
    "# Total of 320 with diabetes_found, 1 if has symptom, 0 if does not\n",
    "df_boolean_only_diabetes_found = df_boolean_diabetes_found.drop(columns=['age', 'age_qcut_4', 'age_qcut_10', 'diabetes_found'])\n",
    "df_boolean_only_diabetes_found_totals = df_boolean_only_diabetes_found.apply(pd.value_counts)\n",
    "df_boolean_only_diabetes_found_totals.plot.bar().legend(loc='center left',bbox_to_anchor=(1.0, 0.5));"
   ]
  },
  {
   "cell_type": "code",
   "execution_count": 43,
   "metadata": {},
   "outputs": [
    {
     "data": {
      "image/png": "[encoded data removed]",
      "text/plain": [
       "<Figure size 1080x720 with 16 Axes>"
      ]
     },
     "metadata": {
      "needs_background": "light"
     },
     "output_type": "display_data"
    }
   ],
   "source": [
    "# Histogram of symptoms in subjects with diabetes_found\n",
    "df_boolean_only_diabetes_found.hist(figsize=(15,10))\n",
    "plt.subplots_adjust(hspace=0.5);"
   ]
  },
  {
   "cell_type": "markdown",
   "metadata": {},
   "source": [
    "## 7.6.8 Save data<a id='7.6.8_Save_data'></a>"
   ]
  },
  {
   "cell_type": "code",
   "execution_count": 44,
   "metadata": {},
   "outputs": [],
   "source": [
    "# Save various dataframes created in this notebook as csv files in /data subdirectory\n",
    "datapath = '../data'"
   ]
  },
  {
   "cell_type": "code",
   "execution_count": null,
   "metadata": {},
   "outputs": [
    {
     "name": "stdout",
     "output_type": "stream",
     "text": [
      "A file already exists with this name.\n",
      "\n"
     ]
    }
   ],
   "source": [
    "# Get rid of spaces in column names to avoid trouble in making column references later\n",
    "# Make column names uniform by setting to all lowercase\n",
    "save_file(df, 'df.csv', datapath)"
   ]
  },
  {
   "cell_type": "code",
   "execution_count": null,
   "metadata": {},
   "outputs": [],
   "source": [
    "# Create boolean version of 'Yes'/'No' valued columns using 1/0 instead of True/False to allow for summing\n",
    "save_file(df_boolean, 'df_boolean.csv', datapath)"
   ]
  },
  {
   "cell_type": "code",
   "execution_count": null,
   "metadata": {},
   "outputs": [],
   "source": [
    "# Version of df_boolean with only those with diabetes_found = 0\n",
    "save_file(df_boolean_diabetes_not_found, 'df_boolean_diabetes_not_found.csv', datapath)"
   ]
  },
  {
   "cell_type": "code",
   "execution_count": null,
   "metadata": {},
   "outputs": [],
   "source": [
    "# Version of df_boolean with only those with diabetes_found = 1 and additional age fields added, including boolean\n",
    "save_file(df_boolean_diabetes_found, 'df_boolean_diabetes_found.csv', datapath)"
   ]
  },
  {
   "cell_type": "code",
   "execution_count": null,
   "metadata": {},
   "outputs": [],
   "source": [
    "# Total for each symptom for those with diabetes_found\n",
    "save_file(df_diabetes_found_totals, 'df_diabetes_found_totals.csv', datapath)"
   ]
  },
  {
   "cell_type": "code",
   "execution_count": null,
   "metadata": {},
   "outputs": [],
   "source": [
    "# Total for each symptom for those with diabetes_found, sorted descending based on total\n",
    "# With additional fields symptom_importance and symptom_str\n",
    "save_file(df_diabetes_found_totals_sorted, 'df_diabetes_found_totals_sorted.csv', datapath)"
   ]
  },
  {
   "cell_type": "code",
   "execution_count": null,
   "metadata": {},
   "outputs": [],
   "source": [
    "# Binary version of symptoms sorted by importance for each subject with diabetes_found\n",
    "save_file(df_substr_binary_list_diabetes_found, 'df_substr_binary_list_diabetes_found.csv', datapath)"
   ]
  },
  {
   "cell_type": "code",
   "execution_count": null,
   "metadata": {},
   "outputs": [],
   "source": [
    "# Binary version of first 7 symptoms sorted by importance for each subject with diabetes_found\n",
    "save_file(df_substr_binary_list_diabetes_found_7, 'df_substr_binary_list_diabetes_found_7.csv', datapath)"
   ]
  },
  {
   "cell_type": "code",
   "execution_count": null,
   "metadata": {},
   "outputs": [],
   "source": [
    "# Binary version of first 3 symptoms sorted by importance for each subject with diabetes_found\n",
    "save_file(df_substr_binary_list_diabetes_found_3, 'df_substr_binary_list_diabetes_found_3.csv', datapath)"
   ]
  },
  {
   "cell_type": "code",
   "execution_count": null,
   "metadata": {},
   "outputs": [],
   "source": [
    "# Binary version of first 2 symptoms sorted by importance for each subject with diabetes_found\n",
    "save_file(df_substr_binary_list_diabetes_found_2, 'df_substr_binary_list_diabetes_found_2.csv', datapath)"
   ]
  },
  {
   "cell_type": "code",
   "execution_count": null,
   "metadata": {},
   "outputs": [],
   "source": [
    "# Version of df_boolean_diabetes_found with all non-boolean fields removed\n",
    "save_file(df_boolean_only_diabetes_found, 'df_boolean_only_diabetes_found.csv', datapath)"
   ]
  },
  {
   "cell_type": "markdown",
   "metadata": {},
   "source": [
    "## 7.6.9 Summary<a id='7.6.9_Summary'></a>"
   ]
  },
  {
   "cell_type": "markdown",
   "metadata": {},
   "source": [
    "The given data had no missing values and was almost all boolean.  Only age was not.  Two different kinds of categorical age columns was made from the age column, as well as a binary version based on a range, based on two categories of the four category version that had a relatively high percentage of subjects in those age groups having diabetes_found.\n",
    "\n",
    "The symptoms that seem to be most important separately and together are: 'polyuria', 'polydipsia', 'weakness', and 'partial_paresis'.  That will be kept in mind although, since there are only 16 symptoms all together, they will probably all be looked at.  Categorical-based algorithms will be explored because of the nature of the data."
   ]
  }
 ],
 "metadata": {
  "kernelspec": {
   "display_name": "Python 3",
   "language": "python",
   "name": "python3"
  },
  "language_info": {
   "codemirror_mode": {
    "name": "ipython",
    "version": 3
   },
   "file_extension": ".py",
   "mimetype": "text/x-python",
   "name": "python",
   "nbconvert_exporter": "python",
   "pygments_lexer": "ipython3",
   "version": "3.6.5"
  },
  "toc": {
   "base_numbering": 1,
   "nav_menu": {},
   "number_sections": true,
   "sideBar": true,
   "skip_h1_title": false,
   "title_cell": "Table of Contents",
   "title_sidebar": "Contents",
   "toc_cell": false,
   "toc_position": {},
   "toc_section_display": true,
   "toc_window_display": true
  },
  "varInspector": {
   "cols": {
    "lenName": 16,
    "lenType": 16,
    "lenVar": 40
   },
   "kernels_config": {
    "python": {
     "delete_cmd_postfix": "",
     "delete_cmd_prefix": "del ",
     "library": "var_list.py",
     "varRefreshCmd": "print(var_dic_list())"
    },
    "r": {
     "delete_cmd_postfix": ") ",
     "delete_cmd_prefix": "rm(",
     "library": "var_list.r",
     "varRefreshCmd": "cat(var_dic_list()) "
    }
   },
   "types_to_exclude": [
    "module",
    "function",
    "builtin_function_or_method",
    "instance",
    "_Feature"
   ],
   "window_display": false
  }
 },
 "nbformat": 4,
 "nbformat_minor": 4
}
